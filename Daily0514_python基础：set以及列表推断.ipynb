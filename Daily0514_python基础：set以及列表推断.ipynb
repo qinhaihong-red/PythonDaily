{
 "cells": [
  {
   "cell_type": "code",
   "execution_count": null,
   "metadata": {
    "collapsed": true
   },
   "outputs": [],
   "source": [
    "##daily0514\n",
    "'''\n",
    "一 set和dict类似于c++的set和map，内部数据结构应该类似于二叉树结构.\n",
    "拥有去重和排序的功能.\n",
    "\n",
    "二 列表推断\n",
    "1.[expr for value in collections if condition](对于列表)，\n",
    "或者[keyexpr:valueexpr for k,v in collections if condition]\n",
    "\n",
    "2.对于嵌套的列表推断：[[m,n],[x,y]]\n",
    "[expr for v1 in coll for v in v1 if conditon]，先迭代外部列表，再迭代内部列表.\n",
    "conditon针对内部元素.\n",
    "\n",
    "\n",
    "'''"
   ]
  },
  {
   "cell_type": "code",
   "execution_count": 4,
   "metadata": {},
   "outputs": [
    {
     "data": {
      "text/plain": [
       "{1, 2, 3, 4, 5}"
      ]
     },
     "execution_count": 4,
     "metadata": {},
     "output_type": "execute_result"
    }
   ],
   "source": [
    "##一 set\n",
    "##1.set的创建\n",
    "\n",
    "##类似于dict，但是并非k:v结构的元素\n",
    "a={5,4,2,3,1,3,2,1}\n",
    "a\n",
    "\n",
    "##自动排序并去重"
   ]
  },
  {
   "cell_type": "code",
   "execution_count": 3,
   "metadata": {},
   "outputs": [
    {
     "data": {
      "text/plain": [
       "{1, 2, 3, 5}"
      ]
     },
     "execution_count": 3,
     "metadata": {},
     "output_type": "execute_result"
    }
   ],
   "source": [
    "b=set([2,2,3,1,3,1,5])##以列表创建\n",
    "b"
   ]
  },
  {
   "cell_type": "code",
   "execution_count": 5,
   "metadata": {},
   "outputs": [
    {
     "data": {
      "text/plain": [
       "{1, 2, 3}"
      ]
     },
     "execution_count": 5,
     "metadata": {},
     "output_type": "execute_result"
    }
   ],
   "source": [
    "c=set((2,3,1,1))##以tuple创建\n",
    "c"
   ]
  },
  {
   "cell_type": "code",
   "execution_count": null,
   "metadata": {
    "collapsed": true
   },
   "outputs": [],
   "source": [
    "##2.set的方法\n",
    "##对于集合的操作：并，交，差，补，判断是否子集合等等.\n"
   ]
  },
  {
   "cell_type": "code",
   "execution_count": 8,
   "metadata": {},
   "outputs": [
    {
     "data": {
      "text/plain": [
       "['BAT', 'APPLE', 'CAR', 'DOVE', 'PYTHON', 'APPLE', 'PYTHON']"
      ]
     },
     "execution_count": 8,
     "metadata": {},
     "output_type": "execute_result"
    }
   ],
   "source": [
    "##二 列表推断\n",
    "##列表\n",
    "s=['a','bat','apple','car','dove','python','apple','python']\n",
    "\n",
    "[val.upper() for val in s if len(val)>2]"
   ]
  },
  {
   "cell_type": "code",
   "execution_count": 9,
   "metadata": {
    "collapsed": true
   },
   "outputs": [],
   "source": [
    "##字典\n",
    "##1.expr是 k:v \n",
    "##2.数据表示符号由[]变为{}\n",
    "s_map={k:v for k,v in enumerate(s) }"
   ]
  },
  {
   "cell_type": "code",
   "execution_count": 5,
   "metadata": {},
   "outputs": [
    {
     "data": {
      "text/plain": [
       "{0: 'a',\n",
       " 1: 'bat',\n",
       " 2: 'apple',\n",
       " 3: 'car',\n",
       " 4: 'dove',\n",
       " 5: 'python',\n",
       " 6: 'apple',\n",
       " 7: 'python'}"
      ]
     },
     "execution_count": 5,
     "metadata": {},
     "output_type": "execute_result"
    }
   ],
   "source": [
    "s_map#由于这里的键没有重复，所以可以继续迭代"
   ]
  },
  {
   "cell_type": "code",
   "execution_count": 11,
   "metadata": {},
   "outputs": [
    {
     "data": {
      "text/plain": [
       "{2: 'apple', 4: 'dove', 5: 'python'}"
      ]
     },
     "execution_count": 11,
     "metadata": {},
     "output_type": "execute_result"
    }
   ],
   "source": [
    "##加条件\n",
    "{k:v for k,v in enumerate(s) if len(v)>3}"
   ]
  },
  {
   "cell_type": "code",
   "execution_count": 16,
   "metadata": {},
   "outputs": [
    {
     "data": {
      "text/plain": [
       "['apple', 'dove', 'python']"
      ]
     },
     "execution_count": 16,
     "metadata": {},
     "output_type": "execute_result"
    }
   ],
   "source": [
    "[val for val in s if len(val)>3]"
   ]
  },
  {
   "cell_type": "code",
   "execution_count": 19,
   "metadata": {},
   "outputs": [
    {
     "data": {
      "text/plain": [
       "{1: 'apple', 2: 'dove', 3: 'python'}"
      ]
     },
     "execution_count": 19,
     "metadata": {},
     "output_type": "execute_result"
    }
   ],
   "source": [
    "##序号感觉不对，那就进行两次列表推断\n",
    "\n",
    "{k+1:v for k,v in enumerate([val for val in s if len(val)>3])}"
   ]
  },
  {
   "cell_type": "code",
   "execution_count": 20,
   "metadata": {},
   "outputs": [
    {
     "data": {
      "text/plain": [
       "[{'curry': 96, 'durant': 97, 'james': 98, 'wade': 93},\n",
       " {'iverson': 96, 'jordan': 99, 'kobe': 98, 't-mac': 90}]"
      ]
     },
     "execution_count": 20,
     "metadata": {},
     "output_type": "execute_result"
    }
   ],
   "source": [
    "##嵌套的列表推断\n",
    "\n",
    "li=[{'james':98,'curry':96,'wade':93,'durant':97},{'jordan':99,'kobe':98,'iverson':96,'t-mac':90}]\n",
    "li"
   ]
  },
  {
   "cell_type": "code",
   "execution_count": null,
   "metadata": {
    "collapsed": true
   },
   "outputs": [],
   "source": []
  }
 ],
 "metadata": {
  "kernelspec": {
   "display_name": "Python 3",
   "language": "python",
   "name": "python3"
  },
  "language_info": {
   "codemirror_mode": {
    "name": "ipython",
    "version": 3
   },
   "file_extension": ".py",
   "mimetype": "text/x-python",
   "name": "python",
   "nbconvert_exporter": "python",
   "pygments_lexer": "ipython3",
   "version": "3.6.1"
  }
 },
 "nbformat": 4,
 "nbformat_minor": 2
}
