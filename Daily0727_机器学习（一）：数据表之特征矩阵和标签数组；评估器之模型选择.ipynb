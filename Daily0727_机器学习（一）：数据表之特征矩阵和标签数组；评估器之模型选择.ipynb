{
 "cells": [
  {
   "cell_type": "code",
   "execution_count": null,
   "metadata": {
    "collapsed": true
   },
   "outputs": [],
   "source": [
    "##daily0727\n",
    "'''\n",
    "一.机器学习分类\n",
    "1.监督学习\n",
    ">分类问题：\n",
    "感知机、支持向量机：决策函数模型；分别使用无约束的梯度下降算法和带约束的凸二次规划算法（强对偶成立）\n",
    "kNN：\n",
    "决策树：\n",
    "朴素贝叶斯、逻辑回归、最大熵模型：\n",
    "EM、GMM、HMM：\n",
    ">回归问题：\n",
    "CART:\n",
    "线性回归：\n",
    "\n",
    "2.无监督学习：\n",
    ">聚类问题：\n",
    "K-means:\n",
    "\n",
    ">降维：\n",
    "PCA\n",
    "\n",
    "二.Scikit-Learn使用步骤\n",
    "1.数据表示\n",
    "特征工程：形成特征矩阵（二维）和标签数组（一维）\n",
    "\n",
    "2.使用评估器\n",
    ">选择模型类\n",
    ">设置超参数\n",
    ">对特征矩阵和标签数组进行拟合\n",
    ">评估与验证\n",
    ">预测\n",
    "\n",
    "'''"
   ]
  },
  {
   "cell_type": "code",
   "execution_count": 21,
   "metadata": {},
   "outputs": [
    {
     "data": {
      "text/plain": [
       "array([3.74540119, 9.50714306, 7.31993942, 5.98658484, 1.5601864 ,\n",
       "       1.5599452 , 0.58083612, 8.66176146, 6.01115012, 7.08072578,\n",
       "       0.20584494, 9.69909852, 8.32442641, 2.12339111, 1.81824967,\n",
       "       1.8340451 , 3.04242243, 5.24756432, 4.31945019, 2.9122914 ,\n",
       "       6.11852895, 1.39493861, 2.92144649, 3.66361843, 4.56069984,\n",
       "       7.85175961, 1.99673782, 5.14234438, 5.92414569, 0.46450413,\n",
       "       6.07544852, 1.70524124, 0.65051593, 9.48885537, 9.65632033,\n",
       "       8.08397348, 3.04613769, 0.97672114, 6.84233027, 4.40152494,\n",
       "       1.22038235, 4.9517691 , 0.34388521, 9.09320402, 2.58779982,\n",
       "       6.62522284, 3.11711076, 5.20068021, 5.46710279, 1.84854456])"
      ]
     },
     "execution_count": 21,
     "metadata": {},
     "output_type": "execute_result"
    }
   ],
   "source": [
    "import numpy as np\n",
    "import matplotlib.pyplot as plt\n",
    "from np_print import print_np as printn\n",
    "\n",
    "##一. 监督学习示例：简单线性回归\n",
    "\n",
    "##>1.生成数据\n",
    "rng=np.random.RandomState(42)\n",
    "x=10*rng.rand(50)\n",
    "x"
   ]
  },
  {
   "cell_type": "code",
   "execution_count": 8,
   "metadata": {},
   "outputs": [
    {
     "data": {
      "text/plain": [
       "array([ 9.22926896, 20.18565441, 15.52423055, 12.67206599,  2.64185082,\n",
       "        3.4000462 ,  1.70103347, 19.38064514, 13.36591852, 13.3984114 ,\n",
       "        1.73577386, 20.01311476, 16.97193082,  5.8584585 ,  5.66749887,\n",
       "        5.59937032,  6.24562734, 11.18591626,  9.9701638 ,  7.80012793,\n",
       "       12.75788366,  3.60421824,  5.736558  ,  7.13103024, 10.93392551,\n",
       "       18.05975926,  4.92146552, 12.28822167, 13.2099274 ,  1.2838885 ,\n",
       "       13.51229264,  5.94851904,  2.26520582, 21.5423544 , 17.69289556,\n",
       "       17.98984947,  7.17932245,  2.65443493, 14.77642131,  7.81548096,\n",
       "        3.22109281, 11.26065077,  3.16566447, 18.66813782,  5.36710603,\n",
       "       13.74868864,  8.14962364, 11.73011153, 11.40444538,  5.21035654])"
      ]
     },
     "execution_count": 8,
     "metadata": {},
     "output_type": "execute_result"
    }
   ],
   "source": [
    "y=2*x+1+rng.randn(50)\n",
    "y"
   ]
  },
  {
   "cell_type": "code",
   "execution_count": 11,
   "metadata": {},
   "outputs": [
    {
     "data": {
      "image/png": "[encoded data removed]",
      "text/plain": [
       "<matplotlib.figure.Figure at 0x1fd0f7b9a20>"
      ]
     },
     "metadata": {},
     "output_type": "display_data"
    }
   ],
   "source": [
    "%matplotlib inline\n",
    "plt.scatter(x,y);"
   ]
  },
  {
   "cell_type": "code",
   "execution_count": 12,
   "metadata": {},
   "outputs": [
    {
     "data": {
      "text/plain": [
       "LinearRegression(copy_X=True, fit_intercept=True, n_jobs=1, normalize=False)"
      ]
     },
     "execution_count": 12,
     "metadata": {},
     "output_type": "execute_result"
    }
   ],
   "source": [
    "##>2.选择模型\n",
    "from sklearn.linear_model import LinearRegression\n",
    "model=LinearRegression(fit_intercept=True)##使用截距\n",
    "model"
   ]
  },
  {
   "cell_type": "code",
   "execution_count": 15,
   "metadata": {},
   "outputs": [],
   "source": [
    "##>3.数据整理. 生成特征矩阵.\n",
    "X=x[:,np.newaxis]"
   ]
  },
  {
   "cell_type": "code",
   "execution_count": 16,
   "metadata": {},
   "outputs": [
    {
     "data": {
      "text/plain": [
       "LinearRegression(copy_X=True, fit_intercept=True, n_jobs=1, normalize=False)"
      ]
     },
     "execution_count": 16,
     "metadata": {},
     "output_type": "execute_result"
    }
   ],
   "source": [
    "##>4.模型拟合\n",
    "model.fit(X,y)"
   ]
  },
  {
   "cell_type": "code",
   "execution_count": 17,
   "metadata": {},
   "outputs": [
    {
     "data": {
      "text/plain": [
       "array([1.9776566])"
      ]
     },
     "execution_count": 17,
     "metadata": {},
     "output_type": "execute_result"
    }
   ],
   "source": [
    "model.coef_  ##斜率"
   ]
  },
  {
   "cell_type": "code",
   "execution_count": 18,
   "metadata": {},
   "outputs": [
    {
     "data": {
      "text/plain": [
       "1.0966892744688899"
      ]
     },
     "execution_count": 18,
     "metadata": {},
     "output_type": "execute_result"
    }
   ],
   "source": [
    "model.intercept_ ##截距"
   ]
  },
  {
   "cell_type": "code",
   "execution_count": 22,
   "metadata": {},
   "outputs": [
    {
     "name": "stdout",
     "output_type": "stream",
     "text": [
      "[-1.         -0.75510204 -0.51020408 -0.26530612 -0.02040816  0.2244898\n",
      "  0.46938776  0.71428571  0.95918367  1.20408163  1.44897959  1.69387755\n",
      "  1.93877551  2.18367347  2.42857143  2.67346939  2.91836735  3.16326531\n",
      "  3.40816327  3.65306122  3.89795918  4.14285714  4.3877551   4.63265306\n",
      "  4.87755102  5.12244898  5.36734694  5.6122449   5.85714286  6.10204082\n",
      "  6.34693878  6.59183673  6.83673469  7.08163265  7.32653061  7.57142857\n",
      "  7.81632653  8.06122449  8.30612245  8.55102041  8.79591837  9.04081633\n",
      "  9.28571429  9.53061224  9.7755102  10.02040816 10.26530612 10.51020408\n",
      " 10.75510204 11.        ] \n",
      "shape: (50,)\n"
     ]
    }
   ],
   "source": [
    "##>5.预测\n",
    "x_fit=np.linspace(-1,11)\n",
    "printn(x_fit)"
   ]
  },
  {
   "cell_type": "code",
   "execution_count": 23,
   "metadata": {
    "collapsed": true
   },
   "outputs": [],
   "source": [
    "X_fit=x_fit[:,np.newaxis]\n",
    "y_fit=model.predict(X_fit)"
   ]
  },
  {
   "cell_type": "code",
   "execution_count": 25,
   "metadata": {},
   "outputs": [
    {
     "data": {
      "image/png": "[encoded data removed]",
      "text/plain": [
       "<matplotlib.figure.Figure at 0x1fd10ac51d0>"
      ]
     },
     "metadata": {},
     "output_type": "display_data"
    }
   ],
   "source": [
    "plt.scatter(x,y)\n",
    "plt.plot(x_fit,y_fit);"
   ]
  },
  {
   "cell_type": "code",
   "execution_count": null,
   "metadata": {
    "collapsed": true
   },
   "outputs": [],
   "source": []
  }
 ],
 "metadata": {
  "kernelspec": {
   "display_name": "Python 3",
   "language": "python",
   "name": "python3"
  },
  "language_info": {
   "codemirror_mode": {
    "name": "ipython",
    "version": 3
   },
   "file_extension": ".py",
   "mimetype": "text/x-python",
   "name": "python",
   "nbconvert_exporter": "python",
   "pygments_lexer": "ipython3",
   "version": "3.6.1"
  }
 },
 "nbformat": 4,
 "nbformat_minor": 2
}
