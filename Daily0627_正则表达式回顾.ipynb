{
 "cells": [
  {
   "cell_type": "code",
   "execution_count": null,
   "metadata": {
    "collapsed": true
   },
   "outputs": [],
   "source": [
    "##daily0627\n",
    "'''\n",
    "一.1次匹配和查找\n",
    "二.遍历已匹配的结果中的分组（如果有）\n",
    "三.查找所有匹配的结果\n",
    "四.分词\n",
    "五.替换\n",
    "\n",
    "'''\n",
    "\n",
    "'''\n",
    "注意：\n",
    "1.关于匹配任意字符的正则表达式，理论上是[.\\n]*,但是根本没有用处.\n",
    "在python中，可以使用re.DOTALL 或者 [\\w\\W]*,[\\d\\D]*,[\\s\\S]* . 在C++中，是(.|\\n)*,这里的括号并非表示分组的意思.\n",
    "\n",
    "2.去除首位的空白字符：\n",
    "(^\\s*)([\\w\\W]*?)(^\\s$)\n",
    "\n",
    "--只取分组2即可.\n",
    "--分组2中*号后面的?表示非贪婪匹配.\n",
    "\n",
    "'''"
   ]
  },
  {
   "cell_type": "code",
   "execution_count": 13,
   "metadata": {},
   "outputs": [
    {
     "name": "stdout",
     "output_type": "stream",
     "text": [
      "<html>\n",
      "<player>James1</player>\n",
      "<player>Durant2</player>\n",
      "<player>Curry3</player>\n",
      "</html>\n",
      "\n"
     ]
    }
   ],
   "source": [
    "import re\n",
    "\n",
    "##使用''' '''定义的多行字符串，\n",
    "##换行处自然包含了\\n\n",
    "data = '''<html>\n",
    "<player>James1</player>\n",
    "<player>Durant2</player>\n",
    "<player>Curry3</player>\n",
    "</html>\n",
    "'''\n",
    "\n",
    "print(data)"
   ]
  },
  {
   "cell_type": "code",
   "execution_count": 37,
   "metadata": {},
   "outputs": [
    {
     "name": "stdout",
     "output_type": "stream",
     "text": [
      "<html>\n",
      "<player>James1</player>\n",
      "<player>Durant2</player>\n",
      "<player>Curry3</player>\n",
      "</html> \n",
      " \n",
      "<player>James1</player>\n",
      "<player>Durant2</player>\n",
      "<player>Curry3</player>\n",
      "\n"
     ]
    }
   ],
   "source": [
    "#一.1次匹配或查找\n",
    "#>1次匹配\n",
    "#ret = re.match(r'<html>(.*)</html>',data,re.DOTALL)\n",
    "ret = re.match(r'<html>([\\w\\W]*)</html>',data)##等同于上述re.DOTALL.但是[.\\n]*不行.同时[\\d\\D]*与[\\s\\S]*也可以匹配任意字符.\n",
    "print(ret.group(),'\\n',ret.group(1))"
   ]
  },
  {
   "cell_type": "code",
   "execution_count": 31,
   "metadata": {},
   "outputs": [
    {
     "data": {
      "text/plain": [
       "'\\n<player>James1</player>\\n<player>Durant2</player>\\n<player>Curry3</player>\\n'"
      ]
     },
     "execution_count": 31,
     "metadata": {},
     "output_type": "execute_result"
    }
   ],
   "source": [
    "ret.group(1)"
   ]
  },
  {
   "cell_type": "code",
   "execution_count": 39,
   "metadata": {},
   "outputs": [
    {
     "name": "stdout",
     "output_type": "stream",
     "text": [
      "group: <player>James1</player> \n",
      "group(1): player \n",
      "group(2): James1\n"
     ]
    }
   ],
   "source": [
    "#>1次查找\n",
    "ret = re.search(r'<(.*)>(.*)</\\1>',data)\n",
    "if ret is not None: ##找不到返回None，否则返回已匹配的sre_match对象\n",
    "    print(\"group:\",ret.group(),\"\\ngroup(1):\",ret.group(1),\"\\ngroup(2):\",ret.group(2))\n",
    "else:\n",
    "    print('Not Matched.')"
   ]
  },
  {
   "cell_type": "code",
   "execution_count": 40,
   "metadata": {},
   "outputs": [
    {
     "name": "stdout",
     "output_type": "stream",
     "text": [
      "player\n",
      "James1\n"
     ]
    }
   ],
   "source": [
    "##或者使用循环迭代group\n",
    "if ret is not None:\n",
    "    for i in ret.groups():\n",
    "        print(i)"
   ]
  },
  {
   "cell_type": "code",
   "execution_count": 49,
   "metadata": {},
   "outputs": [
    {
     "name": "stdout",
     "output_type": "stream",
     "text": [
      "ret is: [('player', 'James1'), ('player', 'Durant2'), ('player', 'Curry3')] \n",
      "\n",
      "('player', 'James1')\n",
      "player\n",
      "James1\n",
      "\n",
      "\n",
      "('player', 'Durant2')\n",
      "player\n",
      "Durant2\n",
      "\n",
      "\n",
      "('player', 'Curry3')\n",
      "player\n",
      "Curry3\n",
      "\n",
      "\n"
     ]
    }
   ],
   "source": [
    "##二.查找所有匹配结果\n",
    "##python通过 findall和 finditer，可以方便地查找所有匹配结果\n",
    "##接口较c++的：for+regex_search 和 sregex_iterator高级.\n",
    "\n",
    "#>findall\n",
    "ret=re.findall(r'<(.*)>(.*)</\\1>',data)##如果找不到匹配，则返回一个空列表而不是None.\n",
    "if ret:\n",
    "    print(\"ret is:\",ret,\"\\n\")\n",
    "    for i in ret:\n",
    "        print(i)\n",
    "        for j in i:\n",
    "            print(j)\n",
    "        \n",
    "        print('\\n')\n",
    "else:\n",
    "    print('Match None.')"
   ]
  },
  {
   "cell_type": "code",
   "execution_count": 73,
   "metadata": {},
   "outputs": [
    {
     "name": "stdout",
     "output_type": "stream",
     "text": [
      "match: <player>James1</player> \n",
      "groups: ('player', 'James1')\n",
      "sub-group:\n",
      "player\n",
      "James1\n",
      "\n",
      "\n",
      "match: <player>Durant2</player> \n",
      "groups: ('player', 'Durant2')\n",
      "sub-group:\n",
      "player\n",
      "Durant2\n",
      "\n",
      "\n",
      "match: <player>Curry3</player> \n",
      "groups: ('player', 'Curry3')\n",
      "sub-group:\n",
      "player\n",
      "Curry3\n",
      "\n",
      "\n"
     ]
    }
   ],
   "source": [
    "#>finditer\n",
    "it=re.finditer(r'<(.*)>(.*)</\\1>',data)\n",
    "if it:\n",
    "    for i in it:\n",
    "        ##print(type(i))##迭代出的是个已匹配的sre_match对象\n",
    "        print('match:',i.group(),'\\ngroups:',i.groups())\n",
    "        print('sub-group:')\n",
    "        for j in i.groups():\n",
    "            print(j)\n",
    "        print('\\n')\n",
    "else:\n",
    "    print('Match Nothing.')"
   ]
  },
  {
   "cell_type": "code",
   "execution_count": 77,
   "metadata": {},
   "outputs": [
    {
     "data": {
      "text/plain": [
       "['james', 'harden', 'curry', 'durant']"
      ]
     },
     "execution_count": 77,
     "metadata": {},
     "output_type": "execute_result"
    }
   ],
   "source": [
    "##三.分词\n",
    "names=\" james; harden  .  curry ,  durant \"\n",
    "##头尾的空白符，需要自行去除\n",
    "ret=re.split(r'[ \\t\\n]*[;,.][ \\t\\n]*',names.strip())##返回分词列表\n",
    "ret"
   ]
  },
  {
   "cell_type": "code",
   "execution_count": 110,
   "metadata": {},
   "outputs": [
    {
     "data": {
      "text/plain": [
       "['james', 'harden', 'curry', 'durant']"
      ]
     },
     "execution_count": 110,
     "metadata": {},
     "output_type": "execute_result"
    }
   ],
   "source": [
    "##使用正则表达式去除头尾空格\n",
    "'''\n",
    "(^\\s*)表示以0个或多个空格开头\n",
    "([\\w\\W]*?)表示中间是多个任意字符. 注意*后面添加?，表示非贪婪匹配.如不添加?,就会匹配到底，无法找出尾部的空格.\n",
    "(\\s*$)表示以0个或多个空格结尾\n",
    "\n",
    "'''\n",
    "\n",
    "ret=re.match(r'(^\\s*)([\\w\\W]*?)(\\s*$)',names)\n",
    "re.split(r'[ \\t\\n]*[;,.][ \\t\\n]*',ret.group(2))"
   ]
  },
  {
   "cell_type": "code",
   "execution_count": 113,
   "metadata": {
    "collapsed": true
   },
   "outputs": [],
   "source": [
    "##四.替换\n",
    "#>通过替换法去掉首尾空格\n",
    "ret=re.sub(r'(^\\s*)([\\w\\W]*?)(\\s*$)','\\\\2',names)##返回str"
   ]
  },
  {
   "cell_type": "code",
   "execution_count": 116,
   "metadata": {},
   "outputs": [
    {
     "data": {
      "text/plain": [
       "'james; harden  .  curry ,  durant'"
      ]
     },
     "execution_count": 116,
     "metadata": {},
     "output_type": "execute_result"
    }
   ],
   "source": [
    "ret"
   ]
  },
  {
   "cell_type": "code",
   "execution_count": 119,
   "metadata": {
    "collapsed": true
   },
   "outputs": [],
   "source": [
    "retn=re.subn(r'<(.*)>(.*)</\\1>',r'<\\1 value=\"\\2\">',data)"
   ]
  },
  {
   "cell_type": "code",
   "execution_count": 120,
   "metadata": {},
   "outputs": [
    {
     "data": {
      "text/plain": [
       "('<html>\\n<player value=\"James1\">\\n<player value=\"Durant2\">\\n<player value=\"Curry3\">\\n</html>\\n',\n",
       " 3)"
      ]
     },
     "execution_count": 120,
     "metadata": {},
     "output_type": "execute_result"
    }
   ],
   "source": [
    "retn"
   ]
  },
  {
   "cell_type": "code",
   "execution_count": null,
   "metadata": {
    "collapsed": true
   },
   "outputs": [],
   "source": []
  }
 ],
 "metadata": {
  "kernelspec": {
   "display_name": "Python 3",
   "language": "python",
   "name": "python3"
  },
  "language_info": {
   "codemirror_mode": {
    "name": "ipython",
    "version": 3
   },
   "file_extension": ".py",
   "mimetype": "text/x-python",
   "name": "python",
   "nbconvert_exporter": "python",
   "pygments_lexer": "ipython3",
   "version": "3.6.1"
  }
 },
 "nbformat": 4,
 "nbformat_minor": 2
}
