{
 "cells": [
  {
   "cell_type": "code",
   "execution_count": 9,
   "metadata": {},
   "outputs": [],
   "source": [
    "##daily0521\n",
    "\n",
    "'''\n",
    "函数对象的观点是python函数的要点，包括：\n",
    "-函数对象\n",
    "-lambda匿名函数\n",
    "-闭包\n",
    "-curry化\n",
    "\n",
    "以上概念，可与c11的新特性进行对比.\n",
    "\n",
    "'''\n",
    "\n",
    "##1.函数对象\n",
    "states=['   HeNan','HeBei!','shandong','shanXi','GanSu!']\n",
    "\n",
    "##对以上字符串进行规整\n",
    "##当然可以写一个函数进行全部处理\n",
    "##如果把一个处理规则，对应一个函数，这样就条理清楚，便于增减.\n",
    "\n",
    "import re\n",
    "\n",
    "def remove_punctuation(val):\n",
    "    return re.sub('[!#?]','',val)\n",
    "\n",
    "##把所有的清理动作放到列表中\n",
    "clean_ops=[str.strip,remove_punctuation,str.title]\n",
    "\n",
    "def clean_strings(strs,ops):\n",
    "    result=[]\n",
    "    for i in strs:\n",
    "        for f in ops:\n",
    "            i = f(i)\n",
    "        result.append(i)\n",
    "    \n",
    "    return result\n",
    "\n"
   ]
  },
  {
   "cell_type": "code",
   "execution_count": 10,
   "metadata": {},
   "outputs": [
    {
     "data": {
      "text/plain": [
       "['Henan', 'Hebei', 'Shandong', 'Shanxi', 'Gansu']"
      ]
     },
     "execution_count": 10,
     "metadata": {},
     "output_type": "execute_result"
    }
   ],
   "source": [
    "clean_strings(states,clean_ops)"
   ]
  },
  {
   "cell_type": "code",
   "execution_count": 11,
   "metadata": {
    "collapsed": true
   },
   "outputs": [],
   "source": [
    "##2.lambda匿名函数\n",
    "\n",
    "##这个不多说了，要记得它的格式\n",
    "##lambda x: [return] f(x)\n",
    "\n",
    "##传入，传出\n",
    "\n",
    "strings=['foo','card','bar','aaa','abab']\n",
    "strings.sort(key=lambda x:len(set(list(x))))"
   ]
  },
  {
   "cell_type": "code",
   "execution_count": 12,
   "metadata": {},
   "outputs": [
    {
     "data": {
      "text/plain": [
       "['aaa', 'foo', 'abab', 'bar', 'card']"
      ]
     },
     "execution_count": 12,
     "metadata": {},
     "output_type": "execute_result"
    }
   ],
   "source": [
    "strings##根据所含不同元素的个数，进行排序"
   ]
  },
  {
   "cell_type": "code",
   "execution_count": 43,
   "metadata": {
    "collapsed": true
   },
   "outputs": [],
   "source": [
    "##3.闭包：从函数中返回函数\n",
    "##其关键性质在于：闭包可以访问其创建者的局部变量，尽管创建它的函数已经执行完毕.\n",
    "##注意，访问的意思是读取.如果想改变这个局部变量，那该变量必须是可变对象:list,dict等\n",
    "\n",
    "def make_closure(a=None):\n",
    "\n",
    "    b = [0]\n",
    "    ##如果是 b=0 ,则会引发UnboundLocalVariable错误\n",
    "    def closure():\n",
    "        b[0]=b[0]+1\n",
    "        print('I know the secret{}'.format(b[0]))\n",
    "    return closure\n",
    "\n",
    "clo = make_closure(5)"
   ]
  },
  {
   "cell_type": "code",
   "execution_count": 44,
   "metadata": {},
   "outputs": [
    {
     "name": "stdout",
     "output_type": "stream",
     "text": [
      "I know the secret1\n"
     ]
    }
   ],
   "source": [
    "clo()"
   ]
  },
  {
   "cell_type": "code",
   "execution_count": 45,
   "metadata": {},
   "outputs": [
    {
     "name": "stdout",
     "output_type": "stream",
     "text": [
      "I know the secret2\n"
     ]
    }
   ],
   "source": [
    "clo() "
   ]
  },
  {
   "cell_type": "code",
   "execution_count": 46,
   "metadata": {
    "collapsed": true
   },
   "outputs": [],
   "source": [
    "clo2=make_closure()##再生成一个闭包，计数又从1开始了"
   ]
  },
  {
   "cell_type": "code",
   "execution_count": 47,
   "metadata": {},
   "outputs": [
    {
     "name": "stdout",
     "output_type": "stream",
     "text": [
      "I know the secret1\n"
     ]
    }
   ],
   "source": [
    "clo2()"
   ]
  },
  {
   "cell_type": "code",
   "execution_count": 52,
   "metadata": {},
   "outputs": [],
   "source": [
    "##更进一步，利用闭包写出一个计数器\n",
    "def counter(start=None):\n",
    "    ##c=[0]\n",
    "    if start is not None:\n",
    "        c=[start]\n",
    "    else:\n",
    "        c=[0]\n",
    "    def c_imp():\n",
    "        c[0]+=1\n",
    "        return c[0]\n",
    "    return c_imp\n",
    "\n",
    "cter=counter()"
   ]
  },
  {
   "cell_type": "code",
   "execution_count": 53,
   "metadata": {},
   "outputs": [
    {
     "data": {
      "text/plain": [
       "1"
      ]
     },
     "execution_count": 53,
     "metadata": {},
     "output_type": "execute_result"
    }
   ],
   "source": [
    "cter()"
   ]
  },
  {
   "cell_type": "code",
   "execution_count": 54,
   "metadata": {},
   "outputs": [
    {
     "data": {
      "text/plain": [
       "2"
      ]
     },
     "execution_count": 54,
     "metadata": {},
     "output_type": "execute_result"
    }
   ],
   "source": [
    "cter()"
   ]
  },
  {
   "cell_type": "code",
   "execution_count": 55,
   "metadata": {
    "collapsed": true
   },
   "outputs": [],
   "source": [
    "cter_from100=counter(100)"
   ]
  },
  {
   "cell_type": "code",
   "execution_count": 56,
   "metadata": {},
   "outputs": [
    {
     "data": {
      "text/plain": [
       "101"
      ]
     },
     "execution_count": 56,
     "metadata": {},
     "output_type": "execute_result"
    }
   ],
   "source": [
    "cter_from100()"
   ]
  },
  {
   "cell_type": "code",
   "execution_count": 57,
   "metadata": {
    "collapsed": true
   },
   "outputs": [],
   "source": [
    "##4.curried:绑定部分参数\n",
    "##类似于c11的std::bind\n",
    "\n",
    "def simpleadd(x,y):\n",
    "    return x+y\n",
    "\n",
    "from functools import partial\n",
    "\n",
    "add_five=partial(simpleadd,5)"
   ]
  },
  {
   "cell_type": "code",
   "execution_count": 58,
   "metadata": {},
   "outputs": [
    {
     "data": {
      "text/plain": [
       "10"
      ]
     },
     "execution_count": 58,
     "metadata": {},
     "output_type": "execute_result"
    }
   ],
   "source": [
    "add_five(5)"
   ]
  },
  {
   "cell_type": "code",
   "execution_count": null,
   "metadata": {
    "collapsed": true
   },
   "outputs": [],
   "source": []
  }
 ],
 "metadata": {
  "kernelspec": {
   "display_name": "Python 3",
   "language": "python",
   "name": "python3"
  },
  "language_info": {
   "codemirror_mode": {
    "name": "ipython",
    "version": 3
   },
   "file_extension": ".py",
   "mimetype": "text/x-python",
   "name": "python",
   "nbconvert_exporter": "python",
   "pygments_lexer": "ipython3",
   "version": "3.6.1"
  }
 },
 "nbformat": 4,
 "nbformat_minor": 2
}
