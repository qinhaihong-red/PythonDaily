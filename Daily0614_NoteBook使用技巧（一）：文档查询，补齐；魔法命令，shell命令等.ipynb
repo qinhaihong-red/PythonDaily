{
 "cells": [
  {
   "cell_type": "code",
   "execution_count": null,
   "metadata": {
    "collapsed": true
   },
   "outputs": [],
   "source": [
    "##daily0614\n",
    "'''\n",
    "1.文档和补齐:?,?? 和 tab\n",
    "2.快捷键:notebook按H查看相关快捷键\n",
    "3.魔法命令:%对于单行魔法命令，%%对于多行魔法命令\n",
    "4.输入输出历史查询:In,Out,print(_下划线_)\n",
    "5.shell命令:直接在notebook中使用shell命令，如：!ls(linux)，!dir(windows)\n",
    "6.错误和调试\n",
    "7.代码分析和计时\n",
    "\n",
    "'''"
   ]
  },
  {
   "cell_type": "code",
   "execution_count": 1,
   "metadata": {
    "collapsed": true
   },
   "outputs": [],
   "source": [
    "import numpy as np\n",
    "def print_na(ar):\n",
    "    '''print ndarray'''\n",
    "    print(ar,\"\\nshape:\",ar.shape)"
   ]
  },
  {
   "cell_type": "code",
   "execution_count": 2,
   "metadata": {},
   "outputs": [
    {
     "name": "stdout",
     "output_type": "stream",
     "text": [
      "Help on built-in function randn:\n",
      "\n",
      "randn(...) method of mtrand.RandomState instance\n",
      "    randn(d0, d1, ..., dn)\n",
      "    \n",
      "    Return a sample (or samples) from the \"standard normal\" distribution.\n",
      "    \n",
      "    If positive, int_like or int-convertible arguments are provided,\n",
      "    `randn` generates an array of shape ``(d0, d1, ..., dn)``, filled\n",
      "    with random floats sampled from a univariate \"normal\" (Gaussian)\n",
      "    distribution of mean 0 and variance 1 (if any of the :math:`d_i` are\n",
      "    floats, they are first converted to integers by truncation). A single\n",
      "    float randomly sampled from the distribution is returned if no\n",
      "    argument is provided.\n",
      "    \n",
      "    This is a convenience function.  If you want an interface that takes a\n",
      "    tuple as the first argument, use `numpy.random.standard_normal` instead.\n",
      "    \n",
      "    Parameters\n",
      "    ----------\n",
      "    d0, d1, ..., dn : int, optional\n",
      "        The dimensions of the returned array, should be all positive.\n",
      "        If no argument is given a single Python float is returned.\n",
      "    \n",
      "    Returns\n",
      "    -------\n",
      "    Z : ndarray or float\n",
      "        A ``(d0, d1, ..., dn)``-shaped array of floating-point samples from\n",
      "        the standard normal distribution, or a single such float if\n",
      "        no parameters were supplied.\n",
      "    \n",
      "    See Also\n",
      "    --------\n",
      "    random.standard_normal : Similar, but takes a tuple as its argument.\n",
      "    \n",
      "    Notes\n",
      "    -----\n",
      "    For random samples from :math:`N(\\mu, \\sigma^2)`, use:\n",
      "    \n",
      "    ``sigma * np.random.randn(...) + mu``\n",
      "    \n",
      "    Examples\n",
      "    --------\n",
      "    >>> np.random.randn()\n",
      "    2.1923875335537315 #random\n",
      "    \n",
      "    Two-by-four array of samples from N(3, 6.25):\n",
      "    \n",
      "    >>> 2.5 * np.random.randn(2, 4) + 3\n",
      "    array([[-4.49401501,  4.00950034, -1.81814867,  7.29718677],  #random\n",
      "           [ 0.39924804,  4.68456316,  4.99394529,  4.84057254]]) #random\n",
      "\n"
     ]
    }
   ],
   "source": [
    "##一.文档和补齐\n",
    "##1.使用内置的 help 函数\n",
    "##如：\n",
    "help(np.random.randn)"
   ]
  },
  {
   "cell_type": "code",
   "execution_count": 4,
   "metadata": {
    "collapsed": true
   },
   "outputs": [],
   "source": [
    "##2.使用 ?\n",
    "##如：\n",
    "np.random.randn? ##显示内容如同 help，但是以弹框的方式显示."
   ]
  },
  {
   "cell_type": "code",
   "execution_count": 5,
   "metadata": {
    "collapsed": true
   },
   "outputs": [],
   "source": [
    "l=[1,2,3]\n",
    "l.insert?"
   ]
  },
  {
   "cell_type": "code",
   "execution_count": 6,
   "metadata": {
    "collapsed": true
   },
   "outputs": [],
   "source": [
    "##甚至对于对象本身：\n",
    "l?"
   ]
  },
  {
   "cell_type": "code",
   "execution_count": 10,
   "metadata": {
    "collapsed": true
   },
   "outputs": [],
   "source": [
    "##对于自定义函数：\n",
    "print_na?"
   ]
  },
  {
   "cell_type": "code",
   "execution_count": 8,
   "metadata": {
    "collapsed": true
   },
   "outputs": [],
   "source": [
    "##3.使用??获取源代码\n",
    "##对于自定义函数\n",
    "print_na??##以弹框的方式，显示源代码内容"
   ]
  },
  {
   "cell_type": "code",
   "execution_count": 9,
   "metadata": {
    "collapsed": true
   },
   "outputs": [],
   "source": [
    "##对于内置函数\n",
    "len??##对于内置函数，有时候不能显示源代码，那是因为源代码并非以python实现."
   ]
  },
  {
   "cell_type": "code",
   "execution_count": 12,
   "metadata": {
    "collapsed": true
   },
   "outputs": [],
   "source": [
    "##4.属性和方法的内容补全\n",
    "##l.[tab]  ：显示属性和方法.\n",
    "##l._[tab] ：显示私有的属性和方法.\n",
    "\n",
    "##5.导入时的补全\n",
    "##如：\n",
    "##from itertools import co[tab]\n",
    "\n",
    "##5.以通配符*查询\n",
    "*Warning? ##弹框显示所有以Waring结尾的对象"
   ]
  },
  {
   "cell_type": "code",
   "execution_count": 13,
   "metadata": {
    "collapsed": true
   },
   "outputs": [],
   "source": [
    "str.*find*?##查找str的所有find方法."
   ]
  },
  {
   "cell_type": "code",
   "execution_count": null,
   "metadata": {
    "collapsed": true
   },
   "outputs": [],
   "source": [
    "###########################################\n",
    "##二.快捷键\n",
    "##针对Notebook，直接命令模式下直接 H 查看快捷键即可.\n",
    "\n",
    "###########################################\n",
    "##三.魔法命令\n",
    "'''\n",
    "分为两类：\n",
    "行魔法命令（line magic）  :以单个%作为前缀.用作单行输入.\n",
    "单元魔法命令（cell magic）:以两个%%作为前缀.用作多行输入\n",
    "'''"
   ]
  },
  {
   "cell_type": "code",
   "execution_count": 16,
   "metadata": {},
   "outputs": [
    {
     "name": "stderr",
     "output_type": "stream",
     "text": [
      "ERROR:root:Line magic function `%paste` not found.\n"
     ]
    }
   ],
   "source": [
    "##1.%paste和%cpaste\n",
    "%paste"
   ]
  },
  {
   "cell_type": "code",
   "execution_count": 19,
   "metadata": {},
   "outputs": [
    {
     "name": "stderr",
     "output_type": "stream",
     "text": [
      "ERROR:root:Cell magic `%%cpaste` not found.\n"
     ]
    }
   ],
   "source": [
    "%%cpaste"
   ]
  },
  {
   "cell_type": "code",
   "execution_count": 20,
   "metadata": {},
   "outputs": [
    {
     "name": "stdout",
     "output_type": "stream",
     "text": [
      "100\n"
     ]
    }
   ],
   "source": [
    "##...好吧，不能用了...\n",
    "##2.运行外部代码：%run\n",
    "%run func.py ##func.py中定义了一个函数，通过%run来运行它"
   ]
  },
  {
   "cell_type": "code",
   "execution_count": 21,
   "metadata": {},
   "outputs": [
    {
     "name": "stdout",
     "output_type": "stream",
     "text": [
      "200\n"
     ]
    }
   ],
   "source": [
    "print(myfunc(200)) ##同时该函数会纳入当前空间"
   ]
  },
  {
   "cell_type": "code",
   "execution_count": 22,
   "metadata": {},
   "outputs": [
    {
     "name": "stdout",
     "output_type": "stream",
     "text": [
      "1000 loops, best of 3: 312 µs per loop\n"
     ]
    }
   ],
   "source": [
    "##3.计算代码运行时间：%timeit\n",
    "%timeit L=[n**2 for n in range(1000)]"
   ]
  },
  {
   "cell_type": "code",
   "execution_count": 23,
   "metadata": {},
   "outputs": [
    {
     "name": "stdout",
     "output_type": "stream",
     "text": [
      "1000 loops, best of 3: 374 µs per loop\n"
     ]
    }
   ],
   "source": [
    "%%timeit\n",
    "L=[]\n",
    "for n in range(1000):\n",
    "    L.append(n**2)"
   ]
  },
  {
   "cell_type": "code",
   "execution_count": 24,
   "metadata": {
    "collapsed": true
   },
   "outputs": [],
   "source": [
    "##4.魔法函数的帮助：?,%magic,%lsmagic\n",
    "%timeit?"
   ]
  },
  {
   "cell_type": "code",
   "execution_count": 25,
   "metadata": {
    "collapsed": true
   },
   "outputs": [],
   "source": [
    "%magic"
   ]
  },
  {
   "cell_type": "code",
   "execution_count": 26,
   "metadata": {},
   "outputs": [
    {
     "data": {
      "application/json": {
       "cell": {
        "!": "OSMagics",
        "HTML": "Other",
        "SVG": "Other",
        "bash": "Other",
        "capture": "ExecutionMagics",
        "cmd": "Other",
        "debug": "ExecutionMagics",
        "file": "Other",
        "html": "DisplayMagics",
        "javascript": "DisplayMagics",
        "js": "DisplayMagics",
        "latex": "DisplayMagics",
        "perl": "Other",
        "prun": "ExecutionMagics",
        "pypy": "Other",
        "python": "Other",
        "python2": "Other",
        "python3": "Other",
        "ruby": "Other",
        "script": "ScriptMagics",
        "sh": "Other",
        "svg": "DisplayMagics",
        "sx": "OSMagics",
        "system": "OSMagics",
        "time": "ExecutionMagics",
        "timeit": "ExecutionMagics",
        "writefile": "OSMagics"
       },
       "line": {
        "alias": "OSMagics",
        "alias_magic": "BasicMagics",
        "autocall": "AutoMagics",
        "automagic": "AutoMagics",
        "autosave": "KernelMagics",
        "bookmark": "OSMagics",
        "cd": "OSMagics",
        "clear": "KernelMagics",
        "cls": "KernelMagics",
        "colors": "BasicMagics",
        "config": "ConfigMagics",
        "connect_info": "KernelMagics",
        "copy": "Other",
        "ddir": "Other",
        "debug": "ExecutionMagics",
        "dhist": "OSMagics",
        "dirs": "OSMagics",
        "doctest_mode": "BasicMagics",
        "echo": "Other",
        "ed": "Other",
        "edit": "KernelMagics",
        "env": "OSMagics",
        "gui": "BasicMagics",
        "hist": "Other",
        "history": "HistoryMagics",
        "killbgscripts": "ScriptMagics",
        "ldir": "Other",
        "less": "KernelMagics",
        "load": "CodeMagics",
        "load_ext": "ExtensionMagics",
        "loadpy": "CodeMagics",
        "logoff": "LoggingMagics",
        "logon": "LoggingMagics",
        "logstart": "LoggingMagics",
        "logstate": "LoggingMagics",
        "logstop": "LoggingMagics",
        "ls": "Other",
        "lsmagic": "BasicMagics",
        "macro": "ExecutionMagics",
        "magic": "BasicMagics",
        "matplotlib": "PylabMagics",
        "mkdir": "Other",
        "more": "KernelMagics",
        "notebook": "BasicMagics",
        "page": "BasicMagics",
        "pastebin": "CodeMagics",
        "pdb": "ExecutionMagics",
        "pdef": "NamespaceMagics",
        "pdoc": "NamespaceMagics",
        "pfile": "NamespaceMagics",
        "pinfo": "NamespaceMagics",
        "pinfo2": "NamespaceMagics",
        "popd": "OSMagics",
        "pprint": "BasicMagics",
        "precision": "BasicMagics",
        "profile": "BasicMagics",
        "prun": "ExecutionMagics",
        "psearch": "NamespaceMagics",
        "psource": "NamespaceMagics",
        "pushd": "OSMagics",
        "pwd": "OSMagics",
        "pycat": "OSMagics",
        "pylab": "PylabMagics",
        "qtconsole": "KernelMagics",
        "quickref": "BasicMagics",
        "recall": "HistoryMagics",
        "rehashx": "OSMagics",
        "reload_ext": "ExtensionMagics",
        "ren": "Other",
        "rep": "Other",
        "rerun": "HistoryMagics",
        "reset": "NamespaceMagics",
        "reset_selective": "NamespaceMagics",
        "rmdir": "Other",
        "run": "ExecutionMagics",
        "save": "CodeMagics",
        "sc": "OSMagics",
        "set_env": "OSMagics",
        "store": "StoreMagics",
        "sx": "OSMagics",
        "system": "OSMagics",
        "tb": "ExecutionMagics",
        "time": "ExecutionMagics",
        "timeit": "ExecutionMagics",
        "unalias": "OSMagics",
        "unload_ext": "ExtensionMagics",
        "who": "NamespaceMagics",
        "who_ls": "NamespaceMagics",
        "whos": "NamespaceMagics",
        "xdel": "NamespaceMagics",
        "xmode": "BasicMagics"
       }
      },
      "text/plain": [
       "Available line magics:\n",
       "%alias  %alias_magic  %autocall  %automagic  %autosave  %bookmark  %cd  %clear  %cls  %colors  %config  %connect_info  %copy  %ddir  %debug  %dhist  %dirs  %doctest_mode  %echo  %ed  %edit  %env  %gui  %hist  %history  %killbgscripts  %ldir  %less  %load  %load_ext  %loadpy  %logoff  %logon  %logstart  %logstate  %logstop  %ls  %lsmagic  %macro  %magic  %matplotlib  %mkdir  %more  %notebook  %page  %pastebin  %pdb  %pdef  %pdoc  %pfile  %pinfo  %pinfo2  %popd  %pprint  %precision  %profile  %prun  %psearch  %psource  %pushd  %pwd  %pycat  %pylab  %qtconsole  %quickref  %recall  %rehashx  %reload_ext  %ren  %rep  %rerun  %reset  %reset_selective  %rmdir  %run  %save  %sc  %set_env  %store  %sx  %system  %tb  %time  %timeit  %unalias  %unload_ext  %who  %who_ls  %whos  %xdel  %xmode\n",
       "\n",
       "Available cell magics:\n",
       "%%!  %%HTML  %%SVG  %%bash  %%capture  %%cmd  %%debug  %%file  %%html  %%javascript  %%js  %%latex  %%perl  %%prun  %%pypy  %%python  %%python2  %%python3  %%ruby  %%script  %%sh  %%svg  %%sx  %%system  %%time  %%timeit  %%writefile\n",
       "\n",
       "Automagic is ON, % prefix IS NOT needed for line magics."
      ]
     },
     "execution_count": 26,
     "metadata": {},
     "output_type": "execute_result"
    }
   ],
   "source": [
    "%lsmagic ##显示所有的魔法命令"
   ]
  },
  {
   "cell_type": "code",
   "execution_count": 27,
   "metadata": {},
   "outputs": [
    {
     "data": {
      "text/plain": [
       "'C:\\\\Users\\\\qinhaihong'"
      ]
     },
     "execution_count": 27,
     "metadata": {},
     "output_type": "execute_result"
    }
   ],
   "source": [
    "%pwd"
   ]
  },
  {
   "cell_type": "code",
   "execution_count": 31,
   "metadata": {},
   "outputs": [
    {
     "name": "stdout",
     "output_type": "stream",
     "text": [
      " 驱动器 C 中的卷是 Windows\n",
      " 卷的序列号是 D6D9-2ED1\n",
      "\n",
      " C:\\Users\\qinhaihong 的目录\n",
      "\n",
      "2018/06/16  00:56    <DIR>          .\n",
      "2018/06/16  00:56    <DIR>          ..\n",
      "2017/09/12  00:57    <DIR>          .anaconda\n",
      "2018/04/12  01:54    <DIR>          .android\n",
      "2016/04/23  10:03    <DIR>          .AndroidStudio2.0\n",
      "2018/05/21  22:48               693 .bash_history\n",
      "2016/08/06  02:10    <DIR>          .CLion2016.2\n",
      "2017/09/14  16:36    <DIR>          .conda\n",
      "2018/06/05  22:49                43 .condarc\n",
      "2017/03/10  21:40    <DIR>          .cordova\n",
      "2015/08/21  00:21    <DIR>          .distlib\n",
      "2015/08/09  03:35    <DIR>          .eclipse\n",
      "2015/08/18  00:15                54 .gitconfig\n",
      "2016/07/02  18:46    <DIR>          .idlerc\n",
      "2016/07/30  11:17    <DIR>          .IntelliJIdea2016.2\n",
      "2018/06/14  21:56    <DIR>          .ipynb_checkpoints\n",
      "2017/09/12  00:58    <DIR>          .ipython\n",
      "2015/08/29  01:47    <DIR>          .ivy2\n",
      "2017/09/14  17:45    <DIR>          .jupyter\n",
      "2018/04/02  18:27    <DIR>          .keras\n",
      "2016/04/16  17:22    <DIR>          .m2\n",
      "2018/05/07  23:19    <DIR>          .matplotlib\n",
      "2015/12/27  01:24    <DIR>          .nuget\n",
      "2016/05/07  12:03    <DIR>          .p2\n",
      "2016/07/30  11:03    <DIR>          .PyCharm2016.2\n",
      "2018/06/16  00:47    <DIR>          .pylint.d\n",
      "2018/05/21  21:39    <DIR>          .ssh\n",
      "2018/05/21  21:37             1,037 .viminfo\n",
      "2016/05/27  02:15    <DIR>          .vs\n",
      "2017/02/05  22:47    <DIR>          .vscode\n",
      "2018/05/29  00:53    <DIR>          3D Objects\n",
      "2018/04/02  17:10    <DIR>          AnacondaProjects\n",
      "2018/02/17  21:58    <DIR>          ansel\n",
      "2018/04/04  18:30    <DIR>          CMB\n",
      "2015/12/09  00:17               464 com_sa3_sa3_jniwrapper.h\n",
      "2018/05/29  00:53    <DIR>          Contacts\n",
      "2018/04/13  00:31               112 csv_test.txt\n",
      "2018/04/13  00:31            10,177 daily_from_0413.ipynb\n",
      "2018/04/19  01:10            81,192 daily_from_0416.ipynb\n",
      "2018/05/07  23:16            22,086 daily_from_0427.ipynb\n",
      "2018/05/09  00:04            24,200 daily_from_0507.ipynb\n",
      "2018/04/20  00:26            77,022 daily0419.ipynb\n",
      "2018/04/25  00:27            97,594 daily0420.ipynb\n",
      "2018/05/09  21:45            18,963 Daily0509_python基础：tuple,list以及序列函数一 .ipynb\n",
      "2018/05/11  01:29            10,064 Daily0510_pyhon基础：dict以及序列函数二.ipynb\n",
      "2018/05/17  00:01             5,816 Daily0514_python基础：set以及列表推断.ipynb\n",
      "2018/05/17  11:16             4,816 Daily0516_函数（一）：命名空间，作用域，以及局部函数.ipynb\n",
      "2018/06/05  22:40             6,959 Daily0521_函数（二）：函数对象，lambda，闭包，curried.ipynb\n",
      "2018/05/23  00:40             4,108 Daily0522_函数（三）：迭代器与生成器.ipynb\n",
      "2018/05/24  01:07            10,048 Daily0524_python基础：异常以及日期时间.ipynb\n",
      "2018/05/31  21:46            10,197 Daily0529_正则表达式（一）：综述以及简单匹配和查找.ipynb\n",
      "2018/05/31  23:14            20,531 Daily0531_正则表达式（二）：分组，搜索的位置限定，findall和finditer.ipynb\n",
      "2018/06/05  00:23             4,538 Daily0604_正则表达式（三）：subn, split .ipynb\n",
      "2018/06/06  22:43             7,839 Daily0606_正则表达式（四）：扩展符号.ipynb\n",
      "2018/06/08  00:27             6,182 Daily0607_正则表达式（五）：示例（1）：使用正则表达式输出当前登陆用户的关键信息.ipynb\n",
      "2018/06/08  23:06             8,078 Daily0608_正则表达式（六）：示例（2）：匹配，搜索于贪婪.ipynb\n",
      "2018/06/13  22:40            16,347 Daily0612_numpy数值计算（一）：总体结构，ndarray类型和构造 .ipynb\n",
      "2018/06/14  21:29            16,036 Daily0613_numpy数值计算（二）：轴向，索引和切片.ipynb\n",
      "2018/06/16  00:56            14,509 Daily0614_NoteBook使用技巧.ipynb\n",
      "2018/06/14  22:24             4,753 Daily0614_关于ndarray轴向以及newaxis的补充.ipynb\n",
      "2018/06/15  17:37    <DIR>          Desktop\n",
      "2018/05/29  00:53    <DIR>          Documents\n",
      "2018/06/16  00:47    <DIR>          Downloads\n",
      "2018/05/29  00:53    <DIR>          Favorites\n",
      "2018/05/24  00:50                13 finally_test.txt\n",
      "2018/04/12  01:47           104,679 from_0403.ipynb\n",
      "2018/06/16  00:49                80 func.py\n",
      "2017/09/21  17:40             8,461 h5test.ipynb\n",
      "2016/04/24  15:17             1,671 id_rsa\n",
      "2018/04/02  18:26    <DIR>          keras\n",
      "2018/05/29  00:53    <DIR>          Links\n",
      "2018/05/29  00:53    <DIR>          Music\n",
      "2018/01/22  00:14    <DIR>          OneDrive\n",
      "2018/05/29  00:53    <DIR>          Pictures\n",
      "2018/04/13  00:25               228 player_names.npy\n",
      "2018/04/13  00:29               622 player_names.npz\n",
      "2017/09/21  17:43            57,947 pydatapractise.ipynb\n",
      "2016/09/24  12:35    <DIR>          Roaming\n",
      "2018/05/29  00:53    <DIR>          Saved Games\n",
      "2018/05/29  00:53    <DIR>          Searches\n",
      "2017/10/24  15:09    <DIR>          Tracing\n",
      "2017/09/12  01:00             1,767 Untitled.ipynb\n",
      "2017/09/14  17:42                 0 untitled.txt\n",
      "2017/09/13  01:01               581 Untitled1.ipynb\n",
      "2018/04/02  18:23             3,650 Untitled2.ipynb\n",
      "2018/04/02  18:33             1,327 Untitled3.ipynb\n",
      "2018/04/02  22:59               928 Untitled4-Copy1.ipynb\n",
      "2018/05/29  16:03    <DIR>          Videos\n",
      "2015/12/13  17:25    <DIR>          workspace\n",
      "2018/04/04  00:55    <DIR>          www\n",
      "              43 个文件        666,412 字节\n",
      "              47 个目录 12,647,751,680 可用字节\n"
     ]
    }
   ],
   "source": [
    "%ls"
   ]
  },
  {
   "cell_type": "code",
   "execution_count": 32,
   "metadata": {},
   "outputs": [
    {
     "name": "stderr",
     "output_type": "stream",
     "text": [
      "UsageError: Missing filename.\n"
     ]
    }
   ],
   "source": [
    "%more"
   ]
  },
  {
   "cell_type": "code",
   "execution_count": 33,
   "metadata": {},
   "outputs": [
    {
     "name": "stdout",
     "output_type": "stream",
     "text": [
      "C:\\Users\\qinhaihong\\Videos\n"
     ]
    }
   ],
   "source": [
    "%cd ./Videos"
   ]
  },
  {
   "cell_type": "code",
   "execution_count": 34,
   "metadata": {},
   "outputs": [
    {
     "data": {
      "text/plain": [
       "'C:\\\\Users\\\\qinhaihong\\\\Videos'"
      ]
     },
     "execution_count": 34,
     "metadata": {},
     "output_type": "execute_result"
    }
   ],
   "source": [
    "%pwd"
   ]
  },
  {
   "cell_type": "code",
   "execution_count": 35,
   "metadata": {},
   "outputs": [
    {
     "name": "stdout",
     "output_type": "stream",
     "text": [
      "C:\\Users\\qinhaihong\n"
     ]
    }
   ],
   "source": [
    "%cd ../"
   ]
  },
  {
   "cell_type": "code",
   "execution_count": 36,
   "metadata": {},
   "outputs": [
    {
     "data": {
      "text/plain": [
       "['l', 'myfunc', 'np', 'print_na']"
      ]
     },
     "execution_count": 36,
     "metadata": {},
     "output_type": "execute_result"
    }
   ],
   "source": [
    "%who_ls"
   ]
  },
  {
   "cell_type": "code",
   "execution_count": 37,
   "metadata": {},
   "outputs": [
    {
     "name": "stdout",
     "output_type": "stream",
     "text": [
      "default\n"
     ]
    },
    {
     "name": "stderr",
     "output_type": "stream",
     "text": [
      "D:\\Anaconda3-4.4.0\\lib\\site-packages\\IPython\\core\\magics\\basic.py:298: UserWarning: %profile is now deprecated. Please use get_ipython().profile instead.\n",
      "  warn(\"%profile is now deprecated. Please use get_ipython().profile instead.\")\n"
     ]
    }
   ],
   "source": [
    "%profile"
   ]
  },
  {
   "cell_type": "code",
   "execution_count": 39,
   "metadata": {},
   "outputs": [],
   "source": [
    "%notebook from_0403.ipynb"
   ]
  },
  {
   "cell_type": "code",
   "execution_count": 40,
   "metadata": {},
   "outputs": [
    {
     "data": {
      "text/plain": [
       "['l', 'myfunc', 'np', 'print_na']"
      ]
     },
     "execution_count": 40,
     "metadata": {},
     "output_type": "execute_result"
    }
   ],
   "source": [
    "%who_ls"
   ]
  },
  {
   "cell_type": "code",
   "execution_count": 43,
   "metadata": {},
   "outputs": [
    {
     "name": "stdout",
     "output_type": "stream",
     "text": [
      "   1:\n",
      "import numpy as np\n",
      "def print_na(ar):\n",
      "    '''print ndarray'''\n",
      "    print(ar,\"\\nshape:\",ar.shape)\n",
      "   2:\n",
      "##1.文档和补齐\n",
      "##>>使用内置的 help 函数\n",
      "help(np.random.randn)\n",
      "   3:\n",
      "##>>使用 ?\n",
      "##如：\n",
      "np.random.randn?\n",
      "   4:\n",
      "##>>使用 ?\n",
      "##如：\n",
      "np.random.randn?\n"
     ]
    }
   ],
   "source": [
    "%history -n 1-4"
   ]
  },
  {
   "cell_type": "code",
   "execution_count": 44,
   "metadata": {},
   "outputs": [
    {
     "name": "stdout",
     "output_type": "stream",
     "text": [
      "['', 'import numpy as np\\ndef print_na(ar):\\n    \\'\\'\\'print ndarray\\'\\'\\'\\n    print(ar,\"\\\\nshape:\",ar.shape)', '##1.文档和补齐\\n##>>使用内置的 help 函数\\nhelp(np.random.randn)', \"##>>使用 ?\\n##如：\\nget_ipython().magic('pinfo np.random.randn')\", \"##>>使用 ?\\n##如：\\nget_ipython().magic('pinfo np.random.randn')\", \"l=[1,2,3]\\nget_ipython().magic('pinfo l.insert')\", \"##甚至对于对象本身：\\nget_ipython().magic('pinfo l')\", \"##对于自定义函数：\\nget_ipython().magic('pinfo print_na')\", \"##3.使用??获取源代码\\nget_ipython().magic('pinfo2 print_na')\", \"##对于内置函数\\nget_ipython().magic('pinfo2 len')\", \"##对于自定义函数：\\nget_ipython().magic('pinfo print_na')\", \"##4.属性和方法的内容补全\\n##l.[tab]  ：显示属性和方法.\\n##l._[tab] ：显示私有的属性和方法.\\n\\n##5.导入时的补全\\n##如：\\n##from itertools import co[tab]\\n\\n##5.以通配符*查询\\nget_ipython().magic('psearch *warning')\", \"##4.属性和方法的内容补全\\n##l.[tab]  ：显示属性和方法.\\n##l._[tab] ：显示私有的属性和方法.\\n\\n##5.导入时的补全\\n##如：\\n##from itertools import co[tab]\\n\\n##5.以通配符*查询\\nget_ipython().magic('psearch *Warning')\", \"get_ipython().magic('psearch str.*find*')\", \"##1.%paste和%cpaste\\nget_ipython().magic('paste')\", \"##1.%paste和%cpaste\\nget_ipython().magic('paste def donothing(x):')\\n\\treturn x\", \"##1.%paste和%cpaste\\nget_ipython().magic('paste')\", \"get_ipython().run_cell_magic('cpaste', '', '')\", \"get_ipython().magic('run')\", \"get_ipython().run_cell_magic('cpaste', '', '')\", \"##...好吧，不能用了...\\n##2.%run\\nget_ipython().magic('run func.py')\", 'print(myfunc(200))', \"##3.计算代码运行时间：%timeit\\nget_ipython().magic('timeit L=[n**2 for n in range(1000)]')\", \"get_ipython().run_cell_magic('timeit', '', 'L=[]\\\\nfor n in range(1000):\\\\n    L.append(n**2)')\", \"##4.魔法函数的帮助：?,%magic,%lsmagic\\nget_ipython().magic('pinfo %timeit')\", \"get_ipython().magic('magic')\", \"get_ipython().magic('lsmagic')\", \"get_ipython().magic('pwd')\", \"get_ipython().run_cell_magic('python', '', '')\", \"get_ipython().magic('python')\", \"get_ipython().run_cell_magic('python', '', '')\", \"get_ipython().magic('ls')\", \"get_ipython().magic('more')\", \"get_ipython().magic('cd ./Videos')\", \"get_ipython().magic('pwd')\", \"get_ipython().magic('cd ../')\", \"get_ipython().magic('who_ls')\", \"get_ipython().magic('profile')\", \"get_ipython().magic('notebook')\", \"get_ipython().magic('notebook from_0403.ipynb')\", \"get_ipython().magic('who_ls')\", \"get_ipython().magic('history')\", \"get_ipython().magic('history -n 4')\", \"get_ipython().magic('history -n 1-4')\", '###########################################\\n##四.输入历史查询\\n##1.妙用In和Out\\nprint(In)']\n"
     ]
    }
   ],
   "source": [
    "###########################################\n",
    "##四.输入历史查询\n",
    "##1.妙用In和Out\n",
    "print(In)"
   ]
  },
  {
   "cell_type": "code",
   "execution_count": 45,
   "metadata": {},
   "outputs": [
    {
     "data": {
      "text/plain": [
       "['',\n",
       " 'import numpy as np\\ndef print_na(ar):\\n    \\'\\'\\'print ndarray\\'\\'\\'\\n    print(ar,\"\\\\nshape:\",ar.shape)',\n",
       " '##1.文档和补齐\\n##>>使用内置的 help 函数\\nhelp(np.random.randn)',\n",
       " \"##>>使用 ?\\n##如：\\nget_ipython().magic('pinfo np.random.randn')\",\n",
       " \"##>>使用 ?\\n##如：\\nget_ipython().magic('pinfo np.random.randn')\",\n",
       " \"l=[1,2,3]\\nget_ipython().magic('pinfo l.insert')\",\n",
       " \"##甚至对于对象本身：\\nget_ipython().magic('pinfo l')\",\n",
       " \"##对于自定义函数：\\nget_ipython().magic('pinfo print_na')\",\n",
       " \"##3.使用??获取源代码\\nget_ipython().magic('pinfo2 print_na')\",\n",
       " \"##对于内置函数\\nget_ipython().magic('pinfo2 len')\",\n",
       " \"##对于自定义函数：\\nget_ipython().magic('pinfo print_na')\",\n",
       " \"##4.属性和方法的内容补全\\n##l.[tab]  ：显示属性和方法.\\n##l._[tab] ：显示私有的属性和方法.\\n\\n##5.导入时的补全\\n##如：\\n##from itertools import co[tab]\\n\\n##5.以通配符*查询\\nget_ipython().magic('psearch *warning')\",\n",
       " \"##4.属性和方法的内容补全\\n##l.[tab]  ：显示属性和方法.\\n##l._[tab] ：显示私有的属性和方法.\\n\\n##5.导入时的补全\\n##如：\\n##from itertools import co[tab]\\n\\n##5.以通配符*查询\\nget_ipython().magic('psearch *Warning')\",\n",
       " \"get_ipython().magic('psearch str.*find*')\",\n",
       " \"##1.%paste和%cpaste\\nget_ipython().magic('paste')\",\n",
       " \"##1.%paste和%cpaste\\nget_ipython().magic('paste def donothing(x):')\\n\\treturn x\",\n",
       " \"##1.%paste和%cpaste\\nget_ipython().magic('paste')\",\n",
       " \"get_ipython().run_cell_magic('cpaste', '', '')\",\n",
       " \"get_ipython().magic('run')\",\n",
       " \"get_ipython().run_cell_magic('cpaste', '', '')\",\n",
       " \"##...好吧，不能用了...\\n##2.%run\\nget_ipython().magic('run func.py')\",\n",
       " 'print(myfunc(200))',\n",
       " \"##3.计算代码运行时间：%timeit\\nget_ipython().magic('timeit L=[n**2 for n in range(1000)]')\",\n",
       " \"get_ipython().run_cell_magic('timeit', '', 'L=[]\\\\nfor n in range(1000):\\\\n    L.append(n**2)')\",\n",
       " \"##4.魔法函数的帮助：?,%magic,%lsmagic\\nget_ipython().magic('pinfo %timeit')\",\n",
       " \"get_ipython().magic('magic')\",\n",
       " \"get_ipython().magic('lsmagic')\",\n",
       " \"get_ipython().magic('pwd')\",\n",
       " \"get_ipython().run_cell_magic('python', '', '')\",\n",
       " \"get_ipython().magic('python')\",\n",
       " \"get_ipython().run_cell_magic('python', '', '')\",\n",
       " \"get_ipython().magic('ls')\",\n",
       " \"get_ipython().magic('more')\",\n",
       " \"get_ipython().magic('cd ./Videos')\",\n",
       " \"get_ipython().magic('pwd')\",\n",
       " \"get_ipython().magic('cd ../')\",\n",
       " \"get_ipython().magic('who_ls')\",\n",
       " \"get_ipython().magic('profile')\",\n",
       " \"get_ipython().magic('notebook')\",\n",
       " \"get_ipython().magic('notebook from_0403.ipynb')\",\n",
       " \"get_ipython().magic('who_ls')\",\n",
       " \"get_ipython().magic('history')\",\n",
       " \"get_ipython().magic('history -n 4')\",\n",
       " \"get_ipython().magic('history -n 1-4')\",\n",
       " '###########################################\\n##四.输入历史查询\\n##1.妙用In和Out\\nprint(In)',\n",
       " 'In']"
      ]
     },
     "execution_count": 45,
     "metadata": {},
     "output_type": "execute_result"
    }
   ],
   "source": [
    "In"
   ]
  },
  {
   "cell_type": "code",
   "execution_count": 46,
   "metadata": {},
   "outputs": [
    {
     "data": {
      "text/plain": [
       "{26: Available line magics:\n",
       "%alias  %alias_magic  %autocall  %automagic  %autosave  %bookmark  %cd  %clear  %cls  %colors  %config  %connect_info  %copy  %ddir  %debug  %dhist  %dirs  %doctest_mode  %echo  %ed  %edit  %env  %gui  %hist  %history  %killbgscripts  %ldir  %less  %load  %load_ext  %loadpy  %logoff  %logon  %logstart  %logstate  %logstop  %ls  %lsmagic  %macro  %magic  %matplotlib  %mkdir  %more  %notebook  %page  %pastebin  %pdb  %pdef  %pdoc  %pfile  %pinfo  %pinfo2  %popd  %pprint  %precision  %profile  %prun  %psearch  %psource  %pushd  %pwd  %pycat  %pylab  %qtconsole  %quickref  %recall  %rehashx  %reload_ext  %ren  %rep  %rerun  %reset  %reset_selective  %rmdir  %run  %save  %sc  %set_env  %store  %sx  %system  %tb  %time  %timeit  %unalias  %unload_ext  %who  %who_ls  %whos  %xdel  %xmode\n",
       "\n",
       "Available cell magics:\n",
       "%%!  %%HTML  %%SVG  %%bash  %%capture  %%cmd  %%debug  %%file  %%html  %%javascript  %%js  %%latex  %%perl  %%prun  %%pypy  %%python  %%python2  %%python3  %%ruby  %%script  %%sh  %%svg  %%sx  %%system  %%time  %%timeit  %%writefile\n",
       "\n",
       "Automagic is ON, % prefix IS NOT needed for line magics.,\n",
       " 27: 'C:\\\\Users\\\\qinhaihong',\n",
       " 34: 'C:\\\\Users\\\\qinhaihong\\\\Videos',\n",
       " 36: ['l', 'myfunc', 'np', 'print_na'],\n",
       " 40: ['l', 'myfunc', 'np', 'print_na'],\n",
       " 45: ['',\n",
       "  'import numpy as np\\ndef print_na(ar):\\n    \\'\\'\\'print ndarray\\'\\'\\'\\n    print(ar,\"\\\\nshape:\",ar.shape)',\n",
       "  '##1.文档和补齐\\n##>>使用内置的 help 函数\\nhelp(np.random.randn)',\n",
       "  \"##>>使用 ?\\n##如：\\nget_ipython().magic('pinfo np.random.randn')\",\n",
       "  \"##>>使用 ?\\n##如：\\nget_ipython().magic('pinfo np.random.randn')\",\n",
       "  \"l=[1,2,3]\\nget_ipython().magic('pinfo l.insert')\",\n",
       "  \"##甚至对于对象本身：\\nget_ipython().magic('pinfo l')\",\n",
       "  \"##对于自定义函数：\\nget_ipython().magic('pinfo print_na')\",\n",
       "  \"##3.使用??获取源代码\\nget_ipython().magic('pinfo2 print_na')\",\n",
       "  \"##对于内置函数\\nget_ipython().magic('pinfo2 len')\",\n",
       "  \"##对于自定义函数：\\nget_ipython().magic('pinfo print_na')\",\n",
       "  \"##4.属性和方法的内容补全\\n##l.[tab]  ：显示属性和方法.\\n##l._[tab] ：显示私有的属性和方法.\\n\\n##5.导入时的补全\\n##如：\\n##from itertools import co[tab]\\n\\n##5.以通配符*查询\\nget_ipython().magic('psearch *warning')\",\n",
       "  \"##4.属性和方法的内容补全\\n##l.[tab]  ：显示属性和方法.\\n##l._[tab] ：显示私有的属性和方法.\\n\\n##5.导入时的补全\\n##如：\\n##from itertools import co[tab]\\n\\n##5.以通配符*查询\\nget_ipython().magic('psearch *Warning')\",\n",
       "  \"get_ipython().magic('psearch str.*find*')\",\n",
       "  \"##1.%paste和%cpaste\\nget_ipython().magic('paste')\",\n",
       "  \"##1.%paste和%cpaste\\nget_ipython().magic('paste def donothing(x):')\\n\\treturn x\",\n",
       "  \"##1.%paste和%cpaste\\nget_ipython().magic('paste')\",\n",
       "  \"get_ipython().run_cell_magic('cpaste', '', '')\",\n",
       "  \"get_ipython().magic('run')\",\n",
       "  \"get_ipython().run_cell_magic('cpaste', '', '')\",\n",
       "  \"##...好吧，不能用了...\\n##2.%run\\nget_ipython().magic('run func.py')\",\n",
       "  'print(myfunc(200))',\n",
       "  \"##3.计算代码运行时间：%timeit\\nget_ipython().magic('timeit L=[n**2 for n in range(1000)]')\",\n",
       "  \"get_ipython().run_cell_magic('timeit', '', 'L=[]\\\\nfor n in range(1000):\\\\n    L.append(n**2)')\",\n",
       "  \"##4.魔法函数的帮助：?,%magic,%lsmagic\\nget_ipython().magic('pinfo %timeit')\",\n",
       "  \"get_ipython().magic('magic')\",\n",
       "  \"get_ipython().magic('lsmagic')\",\n",
       "  \"get_ipython().magic('pwd')\",\n",
       "  \"get_ipython().run_cell_magic('python', '', '')\",\n",
       "  \"get_ipython().magic('python')\",\n",
       "  \"get_ipython().run_cell_magic('python', '', '')\",\n",
       "  \"get_ipython().magic('ls')\",\n",
       "  \"get_ipython().magic('more')\",\n",
       "  \"get_ipython().magic('cd ./Videos')\",\n",
       "  \"get_ipython().magic('pwd')\",\n",
       "  \"get_ipython().magic('cd ../')\",\n",
       "  \"get_ipython().magic('who_ls')\",\n",
       "  \"get_ipython().magic('profile')\",\n",
       "  \"get_ipython().magic('notebook')\",\n",
       "  \"get_ipython().magic('notebook from_0403.ipynb')\",\n",
       "  \"get_ipython().magic('who_ls')\",\n",
       "  \"get_ipython().magic('history')\",\n",
       "  \"get_ipython().magic('history -n 4')\",\n",
       "  \"get_ipython().magic('history -n 1-4')\",\n",
       "  '###########################################\\n##四.输入历史查询\\n##1.妙用In和Out\\nprint(In)',\n",
       "  'In',\n",
       "  'Out']}"
      ]
     },
     "execution_count": 46,
     "metadata": {},
     "output_type": "execute_result"
    }
   ],
   "source": [
    "Out"
   ]
  },
  {
   "cell_type": "code",
   "execution_count": 47,
   "metadata": {},
   "outputs": [
    {
     "name": "stdout",
     "output_type": "stream",
     "text": [
      "##3.计算代码运行时间：%timeit\n",
      "get_ipython().magic('timeit L=[n**2 for n in range(1000)]')\n"
     ]
    }
   ],
   "source": [
    "print(In[22])"
   ]
  },
  {
   "cell_type": "code",
   "execution_count": 50,
   "metadata": {},
   "outputs": [
    {
     "name": "stdout",
     "output_type": "stream",
     "text": [
      "C:\\Users\\qinhaihong\\Videos\n"
     ]
    }
   ],
   "source": [
    "print(Out[34])"
   ]
  },
  {
   "cell_type": "code",
   "execution_count": 51,
   "metadata": {},
   "outputs": [
    {
     "name": "stdout",
     "output_type": "stream",
     "text": [
      "['', 'import numpy as np\\ndef print_na(ar):\\n    \\'\\'\\'print ndarray\\'\\'\\'\\n    print(ar,\"\\\\nshape:\",ar.shape)', '##1.文档和补齐\\n##>>使用内置的 help 函数\\nhelp(np.random.randn)', \"##>>使用 ?\\n##如：\\nget_ipython().magic('pinfo np.random.randn')\", \"##>>使用 ?\\n##如：\\nget_ipython().magic('pinfo np.random.randn')\", \"l=[1,2,3]\\nget_ipython().magic('pinfo l.insert')\", \"##甚至对于对象本身：\\nget_ipython().magic('pinfo l')\", \"##对于自定义函数：\\nget_ipython().magic('pinfo print_na')\", \"##3.使用??获取源代码\\nget_ipython().magic('pinfo2 print_na')\", \"##对于内置函数\\nget_ipython().magic('pinfo2 len')\", \"##对于自定义函数：\\nget_ipython().magic('pinfo print_na')\", \"##4.属性和方法的内容补全\\n##l.[tab]  ：显示属性和方法.\\n##l._[tab] ：显示私有的属性和方法.\\n\\n##5.导入时的补全\\n##如：\\n##from itertools import co[tab]\\n\\n##5.以通配符*查询\\nget_ipython().magic('psearch *warning')\", \"##4.属性和方法的内容补全\\n##l.[tab]  ：显示属性和方法.\\n##l._[tab] ：显示私有的属性和方法.\\n\\n##5.导入时的补全\\n##如：\\n##from itertools import co[tab]\\n\\n##5.以通配符*查询\\nget_ipython().magic('psearch *Warning')\", \"get_ipython().magic('psearch str.*find*')\", \"##1.%paste和%cpaste\\nget_ipython().magic('paste')\", \"##1.%paste和%cpaste\\nget_ipython().magic('paste def donothing(x):')\\n\\treturn x\", \"##1.%paste和%cpaste\\nget_ipython().magic('paste')\", \"get_ipython().run_cell_magic('cpaste', '', '')\", \"get_ipython().magic('run')\", \"get_ipython().run_cell_magic('cpaste', '', '')\", \"##...好吧，不能用了...\\n##2.%run\\nget_ipython().magic('run func.py')\", 'print(myfunc(200))', \"##3.计算代码运行时间：%timeit\\nget_ipython().magic('timeit L=[n**2 for n in range(1000)]')\", \"get_ipython().run_cell_magic('timeit', '', 'L=[]\\\\nfor n in range(1000):\\\\n    L.append(n**2)')\", \"##4.魔法函数的帮助：?,%magic,%lsmagic\\nget_ipython().magic('pinfo %timeit')\", \"get_ipython().magic('magic')\", \"get_ipython().magic('lsmagic')\", \"get_ipython().magic('pwd')\", \"get_ipython().run_cell_magic('python', '', '')\", \"get_ipython().magic('python')\", \"get_ipython().run_cell_magic('python', '', '')\", \"get_ipython().magic('ls')\", \"get_ipython().magic('more')\", \"get_ipython().magic('cd ./Videos')\", \"get_ipython().magic('pwd')\", \"get_ipython().magic('cd ../')\", \"get_ipython().magic('who_ls')\", \"get_ipython().magic('profile')\", \"get_ipython().magic('notebook')\", \"get_ipython().magic('notebook from_0403.ipynb')\", \"get_ipython().magic('who_ls')\", \"get_ipython().magic('history')\", \"get_ipython().magic('history -n 4')\", \"get_ipython().magic('history -n 1-4')\", '###########################################\\n##四.输入历史查询\\n##1.妙用In和Out\\nprint(In)', 'In', 'Out', 'print(In[22])', 'print(Out[33])', 'print(Out[36])', 'print(Out[34])', '##2.使用下划线\\nprint(_)']\n"
     ]
    }
   ],
   "source": [
    "##2.使用下划线\n",
    "print(_)"
   ]
  },
  {
   "cell_type": "code",
   "execution_count": 52,
   "metadata": {},
   "outputs": [
    {
     "name": "stdout",
     "output_type": "stream",
     "text": [
      "['l', 'myfunc', 'np', 'print_na']\n"
     ]
    }
   ],
   "source": [
    "print(__)"
   ]
  },
  {
   "cell_type": "code",
   "execution_count": 53,
   "metadata": {},
   "outputs": [
    {
     "name": "stdout",
     "output_type": "stream",
     "text": [
      "['l', 'myfunc', 'np', 'print_na']\n"
     ]
    }
   ],
   "source": [
    "print(___)"
   ]
  },
  {
   "cell_type": "code",
   "execution_count": 57,
   "metadata": {},
   "outputs": [
    {
     "name": "stdout",
     "output_type": "stream",
     "text": [
      "hi\n"
     ]
    }
   ],
   "source": [
    "print('hi')"
   ]
  },
  {
   "cell_type": "code",
   "execution_count": 58,
   "metadata": {},
   "outputs": [
    {
     "name": "stdout",
     "output_type": "stream",
     "text": [
      "yoho\n"
     ]
    }
   ],
   "source": [
    "print('yoho')"
   ]
  },
  {
   "cell_type": "code",
   "execution_count": 63,
   "metadata": {
    "collapsed": true
   },
   "outputs": [],
   "source": [
    "##3.禁止输出：在语句后添加分号 ；\n",
    "2+3;##该结果被计算，但不会输出至屏幕，也不会保存在Out中"
   ]
  },
  {
   "cell_type": "code",
   "execution_count": 64,
   "metadata": {},
   "outputs": [
    {
     "data": {
      "text/plain": [
       "5"
      ]
     },
     "execution_count": 64,
     "metadata": {},
     "output_type": "execute_result"
    }
   ],
   "source": [
    "2+3"
   ]
  },
  {
   "cell_type": "code",
   "execution_count": 65,
   "metadata": {},
   "outputs": [
    {
     "data": {
      "text/plain": [
       "False"
      ]
     },
     "execution_count": 65,
     "metadata": {},
     "output_type": "execute_result"
    }
   ],
   "source": [
    "63 in Out"
   ]
  },
  {
   "cell_type": "code",
   "execution_count": 66,
   "metadata": {},
   "outputs": [
    {
     "data": {
      "text/plain": [
       "True"
      ]
     },
     "execution_count": 66,
     "metadata": {},
     "output_type": "execute_result"
    }
   ],
   "source": [
    "64 in Out"
   ]
  },
  {
   "cell_type": "code",
   "execution_count": 67,
   "metadata": {},
   "outputs": [
    {
     "name": "stdout",
     "output_type": "stream",
     "text": [
      "   1:\n",
      "import numpy as np\n",
      "def print_na(ar):\n",
      "    '''print ndarray'''\n",
      "    print(ar,\"\\nshape:\",ar.shape)\n",
      "   2:\n",
      "##1.文档和补齐\n",
      "##>>使用内置的 help 函数\n",
      "help(np.random.randn)\n",
      "   3:\n",
      "##>>使用 ?\n",
      "##如：\n",
      "np.random.randn?\n",
      "   4:\n",
      "##>>使用 ?\n",
      "##如：\n",
      "np.random.randn?\n",
      "   5:\n",
      "l=[1,2,3]\n",
      "l.insert?\n",
      "   6:\n",
      "##甚至对于对象本身：\n",
      "l?\n",
      "   7:\n",
      "##对于自定义函数：\n",
      "print_na?\n",
      "   8:\n",
      "##3.使用??获取源代码\n",
      "print_na??\n"
     ]
    }
   ],
   "source": [
    "##4.history\n",
    "##展示输入历史\n",
    "%history -n 1-8"
   ]
  },
  {
   "cell_type": "code",
   "execution_count": null,
   "metadata": {
    "collapsed": true
   },
   "outputs": [],
   "source": []
  }
 ],
 "metadata": {
  "kernelspec": {
   "display_name": "Python 3",
   "language": "python",
   "name": "python3"
  },
  "language_info": {
   "codemirror_mode": {
    "name": "ipython",
    "version": 3
   },
   "file_extension": ".py",
   "mimetype": "text/x-python",
   "name": "python",
   "nbconvert_exporter": "python",
   "pygments_lexer": "ipython3",
   "version": "3.6.1"
  }
 },
 "nbformat": 4,
 "nbformat_minor": 2
}
