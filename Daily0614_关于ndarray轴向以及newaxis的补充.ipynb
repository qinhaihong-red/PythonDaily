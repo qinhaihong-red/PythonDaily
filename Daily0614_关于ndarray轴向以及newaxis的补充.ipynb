{
 "cells": [
  {
   "cell_type": "code",
   "execution_count": 28,
   "metadata": {
    "collapsed": true
   },
   "outputs": [],
   "source": [
    "##daily0614\n",
    "def print_na(ar):\n",
    "    '''print ndarray'''\n",
    "    print(ar,\"\\nshape:\",ar.shape)"
   ]
  },
  {
   "cell_type": "code",
   "execution_count": 29,
   "metadata": {},
   "outputs": [
    {
     "name": "stdout",
     "output_type": "stream",
     "text": [
      "[1 2 3] \n",
      "shape: (3,)\n"
     ]
    }
   ],
   "source": [
    "##关于ndarray轴向的一些补充\n",
    "import numpy as np\n",
    "ar = np.array([1,2,3])\n",
    "print_na(ar)"
   ]
  },
  {
   "cell_type": "code",
   "execution_count": 32,
   "metadata": {},
   "outputs": [
    {
     "name": "stdout",
     "output_type": "stream",
     "text": [
      "[[1 2 3]] \n",
      "shape: (1, 3)\n"
     ]
    }
   ],
   "source": [
    "ar1_3=ar[np.newaxis,:]\n",
    "print_na(ar1_3)"
   ]
  },
  {
   "cell_type": "code",
   "execution_count": 33,
   "metadata": {},
   "outputs": [
    {
     "name": "stdout",
     "output_type": "stream",
     "text": [
      "[[1]\n",
      " [2]\n",
      " [3]] \n",
      "shape: (3, 1)\n"
     ]
    }
   ],
   "source": [
    "ar3_1=ar[:,np.newaxis]\n",
    "print_na(ar3_1)"
   ]
  },
  {
   "cell_type": "code",
   "execution_count": 35,
   "metadata": {},
   "outputs": [
    {
     "name": "stdout",
     "output_type": "stream",
     "text": [
      "[[[1 2 3]]] \n",
      "shape: (1, 1, 3)\n"
     ]
    }
   ],
   "source": [
    "##1.对于1x3矩阵增加新的轴向\n",
    "ar1_1_3=ar1_3[np.newaxis,:]\n",
    "print_na(ar1_3_1)##对于1x3的矩阵，尽管设置了newaxis新轴在前，但是shape仍然是1个 1x3 矩阵."
   ]
  },
  {
   "cell_type": "code",
   "execution_count": 36,
   "metadata": {},
   "outputs": [
    {
     "name": "stdout",
     "output_type": "stream",
     "text": [
      "[[[1 2 3]]] \n",
      "shape: (1, 1, 3)\n"
     ]
    }
   ],
   "source": [
    "ar1_3_1=ar1_3[:,np.newaxis]\n",
    "print_na(ar1_3_1)##对于1x3的矩阵，设置newaxis新轴在后，shape仍然是1个 1x3 矩阵."
   ]
  },
  {
   "cell_type": "code",
   "execution_count": 38,
   "metadata": {},
   "outputs": [
    {
     "name": "stdout",
     "output_type": "stream",
     "text": [
      "[[[1]\n",
      "  [2]\n",
      "  [3]]] \n",
      "shape: (1, 3, 1)\n"
     ]
    }
   ],
   "source": [
    "##2.对于3x1矩阵增加新的轴向\n",
    "ar1_3_1=ar3_1[np.newaxis,:]\n",
    "print_na(ar1_3_1)##对于3x1矩阵，增加新轴在前，shape变为1个 3x1 矩阵."
   ]
  },
  {
   "cell_type": "code",
   "execution_count": 39,
   "metadata": {},
   "outputs": [
    {
     "name": "stdout",
     "output_type": "stream",
     "text": [
      "[[[1]]\n",
      "\n",
      " [[2]]\n",
      "\n",
      " [[3]]] \n",
      "shape: (3, 1, 1)\n"
     ]
    }
   ],
   "source": [
    "ar3_1_1=ar3_1[:,np.newaxis]\n",
    "print_na(ar3_1_1)##对于3x1 矩阵，增加新轴在后，shape变为3个 1x1 矩阵."
   ]
  },
  {
   "cell_type": "code",
   "execution_count": 41,
   "metadata": {},
   "outputs": [
    {
     "name": "stdout",
     "output_type": "stream",
     "text": [
      "[[1 2 3]\n",
      " [4 5 6]] \n",
      "shape: (2, 3)\n"
     ]
    }
   ],
   "source": [
    "##############################\n",
    "##再看看从 2维 变 3维 的情况.\n",
    "ar2_3=np.arange(1,7).reshape(2,3)\n",
    "print_na(ar2_3)"
   ]
  },
  {
   "cell_type": "code",
   "execution_count": 43,
   "metadata": {},
   "outputs": [
    {
     "name": "stdout",
     "output_type": "stream",
     "text": [
      "[[[1 2 3]\n",
      "  [4 5 6]]] \n",
      "shape: (1, 2, 3)\n"
     ]
    }
   ],
   "source": [
    "ar1_2_3=ar2_3[np.newaxis,:]\n",
    "print_na(ar1_2_3)"
   ]
  },
  {
   "cell_type": "code",
   "execution_count": 44,
   "metadata": {},
   "outputs": [
    {
     "name": "stdout",
     "output_type": "stream",
     "text": [
      "[[[1 2 3]]\n",
      "\n",
      " [[4 5 6]]] \n",
      "shape: (2, 1, 3)\n"
     ]
    }
   ],
   "source": [
    "ar2_3_1=ar2_3[:,np.newaxis]\n",
    "print_na(ar2_3_1)"
   ]
  },
  {
   "cell_type": "code",
   "execution_count": null,
   "metadata": {
    "collapsed": true
   },
   "outputs": [],
   "source": []
  }
 ],
 "metadata": {
  "kernelspec": {
   "display_name": "Python 3",
   "language": "python",
   "name": "python3"
  },
  "language_info": {
   "codemirror_mode": {
    "name": "ipython",
    "version": 3
   },
   "file_extension": ".py",
   "mimetype": "text/x-python",
   "name": "python",
   "nbconvert_exporter": "python",
   "pygments_lexer": "ipython3",
   "version": "3.6.1"
  }
 },
 "nbformat": 4,
 "nbformat_minor": 2
}
