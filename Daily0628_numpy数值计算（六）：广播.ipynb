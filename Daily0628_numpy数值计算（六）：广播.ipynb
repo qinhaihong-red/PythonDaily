{
 "cells": [
  {
   "cell_type": "code",
   "execution_count": null,
   "metadata": {
    "collapsed": true
   },
   "outputs": [],
   "source": [
    "##daily0628\n",
    "'''\n",
    "广播的三个原则：\n",
    "1.维数不匹配的情况下，低维向量在最左侧自动加1维\n",
    "2.维数匹配但形状不匹配，轴向为1的那一维，要自动对齐另一个向量同轴的维数\n",
    "3.经过1与2的调整，仍然无法匹配，广播引发异常\n",
    "\n",
    "'''"
   ]
  },
  {
   "cell_type": "code",
   "execution_count": 6,
   "metadata": {
    "collapsed": true
   },
   "outputs": [],
   "source": [
    "import numpy as np\n",
    "from np_print import print_np \n"
   ]
  },
  {
   "cell_type": "code",
   "execution_count": 8,
   "metadata": {},
   "outputs": [
    {
     "name": "stdout",
     "output_type": "stream",
     "text": [
      "[[1. 1. 1.]\n",
      " [1. 1. 1.]] \n",
      "shape: (2, 3)\n"
     ]
    }
   ],
   "source": [
    "##1.单向广播示例\n",
    "ar=np.ones((2,3))\n",
    "br=np.full(2,2)\n",
    "print_np(ar)"
   ]
  },
  {
   "cell_type": "code",
   "execution_count": 9,
   "metadata": {},
   "outputs": [
    {
     "name": "stdout",
     "output_type": "stream",
     "text": [
      "[2 2] \n",
      "shape: (2,)\n"
     ]
    }
   ],
   "source": [
    "print_np(br)"
   ]
  },
  {
   "cell_type": "code",
   "execution_count": 10,
   "metadata": {},
   "outputs": [
    {
     "ename": "ValueError",
     "evalue": "operands could not be broadcast together with shapes (2,3) (2,) ",
     "output_type": "error",
     "traceback": [
      "\u001b[1;31m---------------------------------------------------------------------------\u001b[0m",
      "\u001b[1;31mValueError\u001b[0m                                Traceback (most recent call last)",
      "\u001b[1;32m<ipython-input-10-999e14ac4d1f>\u001b[0m in \u001b[0;36m<module>\u001b[1;34m()\u001b[0m\n\u001b[1;32m----> 1\u001b[1;33m \u001b[0mar\u001b[0m\u001b[1;33m+\u001b[0m\u001b[0mbr\u001b[0m\u001b[1;33m\u001b[0m\u001b[0m\n\u001b[0m",
      "\u001b[1;31mValueError\u001b[0m: operands could not be broadcast together with shapes (2,3) (2,) "
     ]
    }
   ],
   "source": [
    "'''\n",
    "广播时，根据规则1：br被自动扩展为(1,2)；\n",
    "然后根据规则2，再扩展为(2,2),但是仍然与ar的(2,3)无法匹配，因此引起异常\n",
    "'''\n",
    "ar+br"
   ]
  },
  {
   "cell_type": "code",
   "execution_count": 11,
   "metadata": {},
   "outputs": [
    {
     "data": {
      "text/plain": [
       "array([[3., 3., 3.],\n",
       "       [3., 3., 3.]])"
      ]
     },
     "execution_count": 11,
     "metadata": {},
     "output_type": "execute_result"
    }
   ],
   "source": [
    "'''\n",
    "先手动把br扩展为(2,1),\n",
    "再根据规则2，br又被扩展为(2,3)，与ar的形状一致，\n",
    "广播生效\n",
    "\n",
    "'''\n",
    "ar+br[:,np.newaxis]"
   ]
  },
  {
   "cell_type": "code",
   "execution_count": 13,
   "metadata": {},
   "outputs": [
    {
     "name": "stdout",
     "output_type": "stream",
     "text": [
      "[2 2 2] \n",
      "shape: (3,)\n"
     ]
    }
   ],
   "source": [
    "#再看不手动指定newaxis的例子\n",
    "cr=np.full(3,2)\n",
    "print_np(cr)"
   ]
  },
  {
   "cell_type": "code",
   "execution_count": 14,
   "metadata": {},
   "outputs": [
    {
     "data": {
      "text/plain": [
       "array([[3., 3., 3.],\n",
       "       [3., 3., 3.]])"
      ]
     },
     "execution_count": 14,
     "metadata": {},
     "output_type": "execute_result"
    }
   ],
   "source": [
    "'''\n",
    "根据规则1:(3,)-->(1,3)\n",
    "根据规则2:(1,3)-->(2,3)\n",
    "与ar形状一致，广播生效\n",
    "'''\n",
    "ar+cr"
   ]
  },
  {
   "cell_type": "code",
   "execution_count": 17,
   "metadata": {},
   "outputs": [
    {
     "name": "stdout",
     "output_type": "stream",
     "text": [
      "[[1]\n",
      " [2]\n",
      " [3]] \n",
      "shape: (3, 1)\n"
     ]
    }
   ],
   "source": [
    "##2.双向广播示例\n",
    "a=np.arange(1,4).reshape(3,1)\n",
    "print_np(a)"
   ]
  },
  {
   "cell_type": "code",
   "execution_count": 16,
   "metadata": {},
   "outputs": [
    {
     "name": "stdout",
     "output_type": "stream",
     "text": [
      "[3 3 3] \n",
      "shape: (3,)\n"
     ]
    }
   ],
   "source": [
    "b=np.full(3,3)\n",
    "print_np(b)"
   ]
  },
  {
   "cell_type": "code",
   "execution_count": 18,
   "metadata": {},
   "outputs": [
    {
     "data": {
      "text/plain": [
       "array([[4, 4, 4],\n",
       "       [5, 5, 5],\n",
       "       [6, 6, 6]])"
      ]
     },
     "execution_count": 18,
     "metadata": {},
     "output_type": "execute_result"
    }
   ],
   "source": [
    "'''\n",
    "1.b的维数低，先扩展为(1,3)\n",
    "2.然后a,b再相互扩展：\n",
    "a:(3,1)-->(3,3), b:(1,3)-->(3,3)\n",
    "\n",
    "形状最后相同，广播生效\n",
    "\n",
    "'''\n",
    "a+b"
   ]
  },
  {
   "cell_type": "code",
   "execution_count": 21,
   "metadata": {},
   "outputs": [
    {
     "name": "stdout",
     "output_type": "stream",
     "text": [
      "[[0.41208279 0.04910532 0.77259735]\n",
      " [0.92826277 0.76687912 0.01472244]\n",
      " [0.6796928  0.68261173 0.76537173]\n",
      " [0.27561967 0.80958736 0.1145118 ]\n",
      " [0.69948015 0.29779016 0.31105296]\n",
      " [0.97051355 0.74185035 0.40674049]\n",
      " [0.86680915 0.96052336 0.42678276]\n",
      " [0.96754767 0.06070572 0.80508544]\n",
      " [0.63296396 0.41485173 0.16597276]\n",
      " [0.17297591 0.41866591 0.19974726]] \n",
      "shape: (10, 3)\n"
     ]
    }
   ],
   "source": [
    "##3.广播应用\n",
    "##广播应用最经典的实用例子当属对矩阵的中心化\n",
    "X=np.random.random((10,3))##构造10x3矩阵\n",
    "print_np(X)"
   ]
  },
  {
   "cell_type": "code",
   "execution_count": 22,
   "metadata": {},
   "outputs": [
    {
     "name": "stdout",
     "output_type": "stream",
     "text": [
      "[0.66059484 0.52025707 0.3982585 ] \n",
      "shape: (3,)\n"
     ]
    }
   ],
   "source": [
    "X_mean=np.mean(X,axis=0)\n",
    "print_np(X_mean)"
   ]
  },
  {
   "cell_type": "code",
   "execution_count": 24,
   "metadata": {},
   "outputs": [
    {
     "name": "stdout",
     "output_type": "stream",
     "text": [
      "[[-0.24851205 -0.47115175  0.37433885]\n",
      " [ 0.26766793  0.24662205 -0.38353606]\n",
      " [ 0.01909796  0.16235465  0.36711323]\n",
      " [-0.38497517  0.28933028 -0.2837467 ]\n",
      " [ 0.03888531 -0.22246692 -0.08720554]\n",
      " [ 0.30991871  0.22159327  0.00848199]\n",
      " [ 0.2062143   0.44026628  0.02852426]\n",
      " [ 0.30695283 -0.45955136  0.40682694]\n",
      " [-0.02763089 -0.10540534 -0.23228574]\n",
      " [-0.48761893 -0.10159117 -0.19851124]] \n",
      "shape: (10, 3)\n"
     ]
    }
   ],
   "source": [
    "'''\n",
    "X: (10,3)\n",
    "X_mean:(3,)-->(1,3)-->(10,3)\n",
    "\n",
    "'''\n",
    "X_centerd=X-X_mean\n",
    "print_np(X_centerd)"
   ]
  },
  {
   "cell_type": "code",
   "execution_count": 25,
   "metadata": {},
   "outputs": [
    {
     "data": {
      "text/plain": [
       "array([0.00000000e+00, 1.11022302e-17, 2.22044605e-17])"
      ]
     },
     "execution_count": 25,
     "metadata": {},
     "output_type": "execute_result"
    }
   ],
   "source": [
    "##在机器精度范围内，中心化矩阵再取均值，各列为0.\n",
    "np.mean(X_centerd,axis=0)"
   ]
  },
  {
   "cell_type": "code",
   "execution_count": 26,
   "metadata": {},
   "outputs": [
    {
     "data": {
      "text/plain": [
       "array([0.00000000e+00, 1.11022302e-17, 2.22044605e-17])"
      ]
     },
     "execution_count": 26,
     "metadata": {},
     "output_type": "execute_result"
    }
   ],
   "source": [
    "X_centerd.mean(0)"
   ]
  },
  {
   "cell_type": "code",
   "execution_count": null,
   "metadata": {
    "collapsed": true
   },
   "outputs": [],
   "source": []
  }
 ],
 "metadata": {
  "kernelspec": {
   "display_name": "Python 3",
   "language": "python",
   "name": "python3"
  },
  "language_info": {
   "codemirror_mode": {
    "name": "ipython",
    "version": 3
   },
   "file_extension": ".py",
   "mimetype": "text/x-python",
   "name": "python",
   "nbconvert_exporter": "python",
   "pygments_lexer": "ipython3",
   "version": "3.6.1"
  }
 },
 "nbformat": 4,
 "nbformat_minor": 2
}
