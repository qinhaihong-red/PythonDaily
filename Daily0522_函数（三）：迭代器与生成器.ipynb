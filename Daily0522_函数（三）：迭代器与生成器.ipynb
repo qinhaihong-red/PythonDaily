{
 "cells": [
  {
   "cell_type": "code",
   "execution_count": 2,
   "metadata": {},
   "outputs": [
    {
     "data": {
      "text/plain": [
       "'生成器测试'"
      ]
     },
     "execution_count": 2,
     "metadata": {},
     "output_type": "execute_result"
    }
   ],
   "source": [
    "##daily0523\n",
    "'''\n",
    "1.生成器与迭代器的关系类似于 生产者--消费者 关系\n",
    "2.重要的一点是，如果消费者不消费，生产者就不会生产. 这种延迟生成的方法，适用于一次性占用较多资源的场景.\n",
    "\n",
    "'''\n",
    "##1.生成器示例\n",
    "def squares(n=10):\n",
    "    '生成器测试'\n",
    "    for i in range(1,n+1):\n",
    "        yield i**2 ##就是以 yield 替代 return\n",
    "    \n",
    "squares.__doc__ ##doc string"
   ]
  },
  {
   "cell_type": "code",
   "execution_count": 3,
   "metadata": {},
   "outputs": [
    {
     "data": {
      "text/plain": [
       "<generator object squares at 0x0000014E7B638780>"
      ]
     },
     "execution_count": 3,
     "metadata": {},
     "output_type": "execute_result"
    }
   ],
   "source": [
    "s = squares(5)\n",
    "s"
   ]
  },
  {
   "cell_type": "code",
   "execution_count": 4,
   "metadata": {},
   "outputs": [
    {
     "name": "stdout",
     "output_type": "stream",
     "text": [
      "1\n",
      "4\n",
      "9\n",
      "16\n",
      "25\n"
     ]
    }
   ],
   "source": [
    "for i in s:\n",
    "    print(i)"
   ]
  },
  {
   "cell_type": "code",
   "execution_count": 6,
   "metadata": {},
   "outputs": [
    {
     "name": "stdout",
     "output_type": "stream",
     "text": [
      "1\n",
      "8\n",
      "27\n",
      "64\n"
     ]
    }
   ],
   "source": [
    "##2.生成器表达式\n",
    "##类似于列表推断，仅把中括号 [] 替换为小括号 ()\n",
    "##用于快速表示生成器\n",
    "\n",
    "gen = (i**3 for i in range(1,5))\n",
    "\n",
    "for i in gen:\n",
    "    print(i)"
   ]
  },
  {
   "cell_type": "code",
   "execution_count": 7,
   "metadata": {},
   "outputs": [
    {
     "data": {
      "text/plain": [
       "30"
      ]
     },
     "execution_count": 7,
     "metadata": {},
     "output_type": "execute_result"
    }
   ],
   "source": [
    "##生成器表达式可用于任何接受生成器的内置函数\n",
    "sum(x**2 for x in range(1,5))"
   ]
  },
  {
   "cell_type": "code",
   "execution_count": 8,
   "metadata": {},
   "outputs": [
    {
     "data": {
      "text/plain": [
       "{1: 3, 2: 4, 3: 5}"
      ]
     },
     "execution_count": 8,
     "metadata": {},
     "output_type": "execute_result"
    }
   ],
   "source": [
    "dict((x,x+2) for x in range(1,4))"
   ]
  },
  {
   "cell_type": "code",
   "execution_count": 9,
   "metadata": {},
   "outputs": [
    {
     "name": "stdout",
     "output_type": "stream",
     "text": [
      "G ['GuangDong', 'GuangXi', 'GuiZhou']\n",
      "H ['HeNan', 'HeBei']\n",
      "S ['ShanDong', 'ShanXi']\n"
     ]
    }
   ],
   "source": [
    "##3.itertools模块\n",
    "##其中包含一组用于许多常见数据算法的生成器\n",
    "\n",
    "##例如，groupby对序列中连续元素进行分组\n",
    "\n",
    "import itertools\n",
    "\n",
    "first_letter = lambda x:x[0]\n",
    "\n",
    "names=['GuangDong','GuangXi','GuiZhou','HeNan','HeBei','ShanDong','ShanXi']\n",
    "\n",
    "for letter,names in itertools.groupby(names,first_letter):\n",
    "    print(letter,list(names))"
   ]
  },
  {
   "cell_type": "code",
   "execution_count": null,
   "metadata": {
    "collapsed": true
   },
   "outputs": [],
   "source": []
  }
 ],
 "metadata": {
  "kernelspec": {
   "display_name": "Python 3",
   "language": "python",
   "name": "python3"
  },
  "language_info": {
   "codemirror_mode": {
    "name": "ipython",
    "version": 3
   },
   "file_extension": ".py",
   "mimetype": "text/x-python",
   "name": "python",
   "nbconvert_exporter": "python",
   "pygments_lexer": "ipython3",
   "version": "3.6.1"
  }
 },
 "nbformat": 4,
 "nbformat_minor": 2
}
