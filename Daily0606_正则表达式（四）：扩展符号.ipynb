{
 "cells": [
  {
   "cell_type": "code",
   "execution_count": null,
   "metadata": {
    "collapsed": true
   },
   "outputs": [],
   "source": [
    "##daily0606\n",
    "'''\n",
    "扩展符号(?...)主要分为以下部分：\n",
    "1.不通过编译，直接在re模块函数中使用re属性:\n",
    "(?iLmsux)\n",
    "\n",
    "2.匿名分组:可以对部分正则表达式进行分组，但是并不会保存该分组用于后续检索或应用\n",
    "(?:)\n",
    "\n",
    "3.命名分组及其应用:\n",
    "(?P<name>) (?P=name)\n",
    "\n",
    "4.正/负前视断言:\n",
    "(?=) (?!)\n",
    "\n",
    "5.条件正则表达式:\n",
    "(?: | )(?(1) | )\n",
    "\n",
    "\n",
    "'''"
   ]
  },
  {
   "cell_type": "code",
   "execution_count": 1,
   "metadata": {},
   "outputs": [
    {
     "data": {
      "text/plain": [
       "['yes', 'YES', 'Yes']"
      ]
     },
     "execution_count": 1,
     "metadata": {},
     "output_type": "execute_result"
    }
   ],
   "source": [
    "import re\n",
    "\n",
    "##1.(?iLmsux)\n",
    "re.findall(r'(?i)yes','yes?YES,Yes')##(?i):忽略大小写"
   ]
  },
  {
   "cell_type": "code",
   "execution_count": 2,
   "metadata": {},
   "outputs": [
    {
     "data": {
      "text/plain": [
       "['This is the first line', 'that line']"
      ]
     },
     "execution_count": 2,
     "metadata": {},
     "output_type": "execute_result"
    }
   ],
   "source": [
    "re.findall(r'(?im)^th[\\w ]+','''\n",
    "This is the first line,\n",
    "another line,\n",
    "that line,it's the best line\n",
    "\n",
    "''')##(?im):使用多行模式，并忽略大小写."
   ]
  },
  {
   "cell_type": "code",
   "execution_count": 3,
   "metadata": {},
   "outputs": [
    {
     "data": {
      "text/plain": [
       "['the second line', 'the third line']"
      ]
     },
     "execution_count": 3,
     "metadata": {},
     "output_type": "execute_result"
    }
   ],
   "source": [
    "s='''\n",
    "The first line\n",
    "the second line\n",
    "the third line\n",
    "'''\n",
    "\n",
    "re.findall(r'th.+',s) ##.匹配除换行外的所有字符"
   ]
  },
  {
   "cell_type": "code",
   "execution_count": 4,
   "metadata": {},
   "outputs": [
    {
     "data": {
      "text/plain": [
       "['the second line\\nthe third line\\n']"
      ]
     },
     "execution_count": 4,
     "metadata": {},
     "output_type": "execute_result"
    }
   ],
   "source": [
    "re.findall(r'(?s)th.+',s)##使用?s，连换行符\\n依然匹配."
   ]
  },
  {
   "cell_type": "code",
   "execution_count": 6,
   "metadata": {},
   "outputs": [
    {
     "data": {
      "text/plain": [
       "('800', '555', '1212')"
      ]
     },
     "execution_count": 6,
     "metadata": {},
     "output_type": "execute_result"
    }
   ],
   "source": [
    "##使用re.X可以创建更清晰易读的正则表达式\n",
    "pat=r'''(?x)\n",
    "\\((\\d{3})\\) ##区号\n",
    "[ ]         ##空行\n",
    "(\\d{3})     ##前缀\n",
    "-           ##横线\n",
    "(\\d{4})     ##末尾数字\n",
    "\n",
    "'''\n",
    "\n",
    "re.search(pat,'(800) 555-1212').groups()"
   ]
  },
  {
   "cell_type": "code",
   "execution_count": 7,
   "metadata": {},
   "outputs": [
    {
     "data": {
      "text/plain": [
       "['google.com', 'google.com', 'goole.com']"
      ]
     },
     "execution_count": 7,
     "metadata": {},
     "output_type": "execute_result"
    }
   ],
   "source": [
    "##2.匿名分组：(?:...)\n",
    "s='http://google.com http://www.google.com http://code.goole.com'\n",
    "re.findall(r'http://(?:\\w+\\.)*(\\w+\\.com)',s)"
   ]
  },
  {
   "cell_type": "code",
   "execution_count": 8,
   "metadata": {},
   "outputs": [
    {
     "data": {
      "text/plain": [
       "{'areacode': '800', 'prefix': '555'}"
      ]
     },
     "execution_count": 8,
     "metadata": {},
     "output_type": "execute_result"
    }
   ],
   "source": [
    "##3.命名分组\n",
    "re.search(r'\\((?P<areacode>\\d{3})\\) (?P<prefix>\\d{3})-(?:\\d{4})','(800) 555-1212').groupdict()\n",
    "##注意匿名分组并没有在如下显示"
   ]
  },
  {
   "cell_type": "code",
   "execution_count": 9,
   "metadata": {},
   "outputs": [
    {
     "data": {
      "text/plain": [
       "'(800) 555-xxxx'"
      ]
     },
     "execution_count": 9,
     "metadata": {},
     "output_type": "execute_result"
    }
   ],
   "source": [
    "##使用命名分组:\\g<name>\n",
    "##命名分组在替换中用处比较大\n",
    "re.sub(r'\\((?P<areacode>\\d{3})\\) (?P<prefix>\\d{3})-(?:\\d{4})',r'(\\g<areacode>) \\g<prefix>-xxxx','(800) 555-1212')"
   ]
  },
  {
   "cell_type": "code",
   "execution_count": 10,
   "metadata": {},
   "outputs": [
    {
     "data": {
      "text/plain": [
       "['Lebron', 'Eirc', 'JK']"
      ]
     },
     "execution_count": 10,
     "metadata": {},
     "output_type": "execute_result"
    }
   ],
   "source": [
    "##4.(?=...) (?!...)正负前视断言\n",
    "##正前视断言：符合后续断言的任意前部\n",
    "##负前视断言：排除符合断言的任意前部\n",
    "\n",
    "##(?=...)\n",
    "##示例：挑选姓氏为James的任意人名\n",
    "s='''\n",
    "Lebron James\n",
    "James Harden\n",
    "Eirc James\n",
    "Joe JK James\n",
    "'''\n",
    "\n",
    "re.findall(r'\\w+(?= James)',s)"
   ]
  },
  {
   "cell_type": "code",
   "execution_count": 11,
   "metadata": {},
   "outputs": [
    {
     "data": {
      "text/plain": [
       "['james', 'curry']"
      ]
     },
     "execution_count": 11,
     "metadata": {},
     "output_type": "execute_result"
    }
   ],
   "source": [
    "##(?!...)\n",
    "##示例:忽略以noreply和postmaster开头的email地址\n",
    "s='''\n",
    " james@nba.com\n",
    " noreply@nba.com\n",
    " postmaster@cba.com\n",
    " curry@nba.com\n",
    "\n",
    "'''\n",
    "\n",
    "re.findall(r'(?m)^\\s+(?!noreply|postmaster)(\\w+)',s)"
   ]
  },
  {
   "cell_type": "code",
   "execution_count": 12,
   "metadata": {},
   "outputs": [
    {
     "data": {
      "text/plain": [
       "['james@cba.com', 'curry@cba.com']"
      ]
     },
     "execution_count": 12,
     "metadata": {},
     "output_type": "execute_result"
    }
   ],
   "source": [
    "['{}@cba.com'.format(e.group(1)) for e in re.finditer(r'(?m)^\\s+(?!noreply|postmaster)(\\w+)',s)]"
   ]
  },
  {
   "cell_type": "code",
   "execution_count": 15,
   "metadata": {},
   "outputs": [
    {
     "data": {
      "text/plain": [
       "True"
      ]
     },
     "execution_count": 15,
     "metadata": {},
     "output_type": "execute_result"
    }
   ],
   "source": [
    "##5.条件正则表达式匹配\n",
    "##(?: | )\n",
    "##示例：两个字母的字符串必须由一个跟着另一个，如xy或yx，不能是xx和yy\n",
    "\n",
    "bool(re.search(r'(?:(x)|y)(?(1)y|x)','xy'))"
   ]
  },
  {
   "cell_type": "code",
   "execution_count": 16,
   "metadata": {},
   "outputs": [
    {
     "data": {
      "text/plain": [
       "False"
      ]
     },
     "execution_count": 16,
     "metadata": {},
     "output_type": "execute_result"
    }
   ],
   "source": [
    "bool(re.search(r'(?:(x)|y)(?(1)y|x)','xx'))"
   ]
  },
  {
   "cell_type": "code",
   "execution_count": null,
   "metadata": {
    "collapsed": true
   },
   "outputs": [],
   "source": []
  }
 ],
 "metadata": {
  "kernelspec": {
   "display_name": "Python 3",
   "language": "python",
   "name": "python3"
  },
  "language_info": {
   "codemirror_mode": {
    "name": "ipython",
    "version": 3
   },
   "file_extension": ".py",
   "mimetype": "text/x-python",
   "name": "python",
   "nbconvert_exporter": "python",
   "pygments_lexer": "ipython3",
   "version": "3.6.1"
  }
 },
 "nbformat": 4,
 "nbformat_minor": 2
}
