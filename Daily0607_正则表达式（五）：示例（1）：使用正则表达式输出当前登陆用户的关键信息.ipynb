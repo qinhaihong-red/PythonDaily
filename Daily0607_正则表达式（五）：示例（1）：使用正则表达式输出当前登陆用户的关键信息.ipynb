{
 "cells": [
  {
   "cell_type": "code",
   "execution_count": null,
   "metadata": {
    "collapsed": true
   },
   "outputs": [],
   "source": [
    "##daily0607\n",
    "'''\n",
    "在windows中，使用tasklist输出的进程信息，利用正则表达式，\n",
    "从中选取进程名称，PID，占用内存等3个属性信息，进行输出.\n",
    "\n",
    "'''"
   ]
  },
  {
   "cell_type": "code",
   "execution_count": 25,
   "metadata": {},
   "outputs": [
    {
     "name": "stdout",
     "output_type": "stream",
     "text": [
      "[]\n",
      "[('System Idle Process', '0', '8 K')]\n",
      "[('System', '4', '28 K')]\n",
      "[]\n"
     ]
    }
   ],
   "source": [
    "import re\n",
    "import os\n",
    "\n",
    "def getKeyColumn(line):\n",
    "    return re.findall(r'([\\w.]+(?: [\\w.]+)*)\\s\\s+(\\d+)\\s\\w+\\s\\s+\\d\\s\\s+([\\d.]+ K)',line.strip())\n",
    "\n",
    "f = os.popen('tasklist /nh','r')\n",
    "count=0\n",
    "for line in f:\n",
    "    global count\n",
    "    count+=1\n",
    "    if count < 5:\n",
    "        print(getKeyColumn(line))\n",
    "        #print(line)\n",
    "\n",
    "    else:\n",
    "        break\n",
    "\n",
    "f.close()"
   ]
  },
  {
   "cell_type": "code",
   "execution_count": 24,
   "metadata": {},
   "outputs": [
    {
     "data": {
      "text/plain": [
       "[('System Idle Process', '0', '8 K')]"
      ]
     },
     "execution_count": 24,
     "metadata": {},
     "output_type": "execute_result"
    }
   ],
   "source": [
    "s='System Idle Process              0 Services                   0          8 K'\n",
    "re.findall(r'([\\w.]+(?: [\\w.]+)*)\\s\\s+(\\d+) \\w+\\s\\s+\\d+\\s\\s+([\\d.]+ K)',s.strip())"
   ]
  },
  {
   "cell_type": "code",
   "execution_count": 69,
   "metadata": {},
   "outputs": [
    {
     "name": "stdout",
     "output_type": "stream",
     "text": [
      "Sun Apr  9 06:25:34 2000::maomr@ttksyi.org::955232734-5-6\n",
      "Fri Feb 11 09:12:48 1972::tygsecq@horqetwya.org::66618768-7-9\n",
      "Sat Nov 20 21:37:51 1999::rujjd@niuewheu.net::943105071-5-8\n",
      "Sun Sep  4 18:18:54 1983::ndbwbtq@zztbozd.org::431518734-7-7\n",
      "Wed Jan 10 10:16:42 1973::odhc@hsjazarhilvk.org::95480202-4-12\n",
      "Sat Aug 20 05:44:26 1983::vvok@uncqpmjoj.org::430177466-4-9\n",
      "Wed May 11 06:55:16 1994::ofzxk@vkztkfobs.gov::768610516-5-9\n",
      "Tue Jun 17 13:26:03 1975::kcuztf@lyxkqk.net::172214763-6-6\n"
     ]
    }
   ],
   "source": [
    "##构造供正则表达式使用的数据\n",
    "from random import randrange,choice\n",
    "from string import ascii_lowercase as lc\n",
    "from sys import maxsize\n",
    "import sys\n",
    "from time import ctime\n",
    "\n",
    "dms=('com','edu','net','org','gov')\n",
    "sz=[1232009911]\n",
    "\n",
    "for i in range(randrange(5,11)):\n",
    "    date_int = randrange(sz[0]) ##以int表示的随机日期\n",
    "    date_str = ctime(date_int)\n",
    "    login_len=randrange(4,8)\n",
    "    login=''.join(choice(lc) for j in range(login_len))\n",
    "    dm_len = randrange(login_len,13)\n",
    "    dm = ''.join(choice(lc) for i in range(dm_len))\n",
    "    print('{dt}::{login}@{dom1}.{dom2}::{len1}-{len2}-{len3}'.format(dt=date_str,login=login,dom2=choice(dms),\n",
    "                                                                  dom1=dm,len1=date_int,len2=login_len,len3=dm_len))\n",
    "\n"
   ]
  },
  {
   "cell_type": "code",
   "execution_count": 52,
   "metadata": {},
   "outputs": [
    {
     "name": "stdout",
     "output_type": "stream",
     "text": [
      "3\n"
     ]
    }
   ],
   "source": [
    "print(randrange(5))##随机输出0到5之间的一个整数."
   ]
  },
  {
   "cell_type": "code",
   "execution_count": 55,
   "metadata": {},
   "outputs": [
    {
     "ename": "OSError",
     "evalue": "[Errno 22] Invalid argument",
     "output_type": "error",
     "traceback": [
      "\u001b[1;31m---------------------------------------------------------------------------\u001b[0m",
      "\u001b[1;31mOSError\u001b[0m                                   Traceback (most recent call last)",
      "\u001b[1;32m<ipython-input-55-d8468939709a>\u001b[0m in \u001b[0;36m<module>\u001b[1;34m()\u001b[0m\n\u001b[1;32m----> 1\u001b[1;33m \u001b[0mprint\u001b[0m\u001b[1;33m(\u001b[0m\u001b[0mstr\u001b[0m\u001b[1;33m(\u001b[0m\u001b[0mctime\u001b[0m\u001b[1;33m(\u001b[0m\u001b[0mrandrange\u001b[0m\u001b[1;33m(\u001b[0m\u001b[0mmaxsize\u001b[0m\u001b[1;33m)\u001b[0m\u001b[1;33m)\u001b[0m\u001b[1;33m)\u001b[0m\u001b[1;33m)\u001b[0m\u001b[1;33m\u001b[0m\u001b[0m\n\u001b[0m",
      "\u001b[1;31mOSError\u001b[0m: [Errno 22] Invalid argument"
     ]
    }
   ],
   "source": [
    "print(str(ctime(randrange(maxsize))))"
   ]
  },
  {
   "cell_type": "code",
   "execution_count": 63,
   "metadata": {},
   "outputs": [],
   "source": [
    "dt_i=randrange(maxsize)\n",
    "dt_s=ctime(1232001111)"
   ]
  },
  {
   "cell_type": "code",
   "execution_count": 64,
   "metadata": {},
   "outputs": [
    {
     "data": {
      "text/plain": [
       "'Thu Jan 15 14:31:51 2009'"
      ]
     },
     "execution_count": 64,
     "metadata": {},
     "output_type": "execute_result"
    }
   ],
   "source": [
    "dt_s"
   ]
  },
  {
   "cell_type": "code",
   "execution_count": 62,
   "metadata": {},
   "outputs": [
    {
     "data": {
      "text/plain": [
       "9223372036854775807"
      ]
     },
     "execution_count": 62,
     "metadata": {},
     "output_type": "execute_result"
    }
   ],
   "source": [
    "sys.maxsize"
   ]
  },
  {
   "cell_type": "code",
   "execution_count": null,
   "metadata": {
    "collapsed": true
   },
   "outputs": [],
   "source": []
  }
 ],
 "metadata": {
  "kernelspec": {
   "display_name": "Python 3",
   "language": "python",
   "name": "python3"
  },
  "language_info": {
   "codemirror_mode": {
    "name": "ipython",
    "version": 3
   },
   "file_extension": ".py",
   "mimetype": "text/x-python",
   "name": "python",
   "nbconvert_exporter": "python",
   "pygments_lexer": "ipython3",
   "version": "3.6.1"
  }
 },
 "nbformat": 4,
 "nbformat_minor": 2
}
