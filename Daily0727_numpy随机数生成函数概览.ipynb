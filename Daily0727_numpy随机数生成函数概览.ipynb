{
 "cells": [
  {
   "cell_type": "code",
   "execution_count": null,
   "metadata": {
    "collapsed": true
   },
   "outputs": [],
   "source": [
    "##daily0727\n",
    "'''\n",
    "一.各种分布的随机数生成函数\n",
    "\n",
    "np.random.rand:  生成[0,1)上的均匀分布数据.\n",
    "np.random.random:生成[0,1)上的均匀分布数据.生成矩阵时，需要指定tuple类型参数.\n",
    "np.random.random_samples:等同于np.random.random\n",
    "\n",
    "np.random.randn:生成标准正态分布数据.\n",
    "np.random.randint:randint(low, high=None, size=None, dtype=’l’) ，生成low与high之间的整数.\n",
    "np.random.normal: normal(loc=0.0, scale=1.0, size=None)，生成指定均值与方差的正态分布数据. \n",
    "\n",
    "np.random.choice:随机选取.\n",
    "np.random.shuffle:就地混淆序列.\n",
    "np.random.permuation:生成混淆序列.\n",
    "\n",
    "np.arange:[start,stop)+step,  按步长输出start到stop(不含)之间的元素.\n",
    "np.linspace:[start,stop]+num, 均匀采样num个start到stop（包含）之间的元素.\n",
    "\n",
    "二.种子的作用\n",
    "numpy.random.RandomState()指定种子值（指定种子值是为了使同样的条件下每次产生的随机数一样，避免程序调试时由随机数不同而引起的问题） \n",
    "如不设置种子值时,np.random.randint(8)可能产生0-7内的任意整数，且每次产生的数字可能是任意一种． \n",
    "而设置种子值后,np.random.RandomState(0).randint(8)可能产生0-7内的任意整数，但种子值不变时每次运行程序产生的数字一样．\n",
    "\n",
    "\n",
    "'''"
   ]
  },
  {
   "cell_type": "code",
   "execution_count": 1,
   "metadata": {},
   "outputs": [
    {
     "name": "stdout",
     "output_type": "stream",
     "text": [
      "[0.01246553 0.43175029 0.52283168 0.52972863 0.03501596 0.14756528\n",
      " 0.88448535 0.41798568 0.62238126 0.89460198] \n",
      "shape: (10,)\n"
     ]
    }
   ],
   "source": [
    "import numpy as np\n",
    "from np_print import print_np as printn\n",
    "##1.np.random.rand\n",
    "x=np.random.rand(10)\n",
    "printn(x)"
   ]
  },
  {
   "cell_type": "code",
   "execution_count": 2,
   "metadata": {},
   "outputs": [
    {
     "name": "stdout",
     "output_type": "stream",
     "text": [
      "[[0.4957698  0.92417543 0.48947257 0.75415644]\n",
      " [0.23871661 0.6920743  0.73608976 0.01547038]\n",
      " [0.25195932 0.66216101 0.80509568 0.04181803]\n",
      " [0.31851882 0.17955501 0.6150767  0.76564554]\n",
      " [0.02011954 0.45926524 0.40607108 0.61480524]] \n",
      "shape: (5, 4)\n"
     ]
    }
   ],
   "source": [
    "X=np.random.rand(5,4)\n",
    "printn(X)"
   ]
  },
  {
   "cell_type": "code",
   "execution_count": 3,
   "metadata": {},
   "outputs": [
    {
     "name": "stdout",
     "output_type": "stream",
     "text": [
      "[0.5574606  0.67795301 0.09773728 0.81620331 0.20364669 0.63022238\n",
      " 0.35942767 0.51548741 0.92553376 0.93641399] \n",
      "shape: (10,)\n"
     ]
    }
   ],
   "source": [
    "##2.np.random.random\n",
    "y=np.random.random(10)\n",
    "printn(y)"
   ]
  },
  {
   "cell_type": "code",
   "execution_count": 5,
   "metadata": {},
   "outputs": [
    {
     "name": "stdout",
     "output_type": "stream",
     "text": [
      "[[0.75290906 0.63563598 0.27188335 0.97694938]\n",
      " [0.60077885 0.29884316 0.00710216 0.39248166]\n",
      " [0.2237167  0.72315007 0.50446844 0.6479009 ]\n",
      " [0.10844574 0.99539472 0.93207771 0.16985206]\n",
      " [0.80530764 0.35708101 0.98484679 0.07437299]] \n",
      "shape: (5, 4)\n"
     ]
    }
   ],
   "source": [
    "Y=np.random.random((5,4))\n",
    "printn(Y)"
   ]
  },
  {
   "cell_type": "code",
   "execution_count": 6,
   "metadata": {},
   "outputs": [
    {
     "name": "stdout",
     "output_type": "stream",
     "text": [
      "[ 1.27887667 -0.53250067  0.12670545  0.06599545  0.50531165  0.14084103\n",
      " -0.87043669 -1.80322953  0.43358645 -0.39594082] \n",
      "shape: (10,)\n"
     ]
    }
   ],
   "source": [
    "##3.np.random.randn\n",
    "n=np.random.randn(10)\n",
    "printn(n)"
   ]
  },
  {
   "cell_type": "code",
   "execution_count": 8,
   "metadata": {},
   "outputs": [
    {
     "name": "stdout",
     "output_type": "stream",
     "text": [
      "[[ 0.21494681 -0.97818054 -1.40794495 -2.01905371]\n",
      " [ 1.076632   -2.02161555  1.64445742 -0.09096694]\n",
      " [ 2.40172163  1.87405746 -1.00455065  0.97713174]\n",
      " [ 1.65891629 -0.00655602  1.6672708  -0.0457173 ]\n",
      " [-0.95517073  0.04087001 -0.11649844 -1.57607637]]\n"
     ]
    }
   ],
   "source": [
    "N=np.random.randn(5,4)\n",
    "print(N)"
   ]
  },
  {
   "cell_type": "code",
   "execution_count": 14,
   "metadata": {},
   "outputs": [
    {
     "name": "stdout",
     "output_type": "stream",
     "text": [
      "2\n",
      "2\n",
      "2\n",
      "2\n",
      "0\n",
      "2\n",
      "2\n",
      "1\n",
      "1\n",
      "2\n"
     ]
    }
   ],
   "source": [
    "##4.np.random.randint\n",
    "for j in range(10):\n",
    "    print(np.random.randint(3))##带一个参数，表示生成[0,3)之间的任意的整数. pmf为离散均匀分布."
   ]
  },
  {
   "cell_type": "code",
   "execution_count": 15,
   "metadata": {},
   "outputs": [
    {
     "name": "stdout",
     "output_type": "stream",
     "text": [
      "[1 1 0 0 1 0 2 1 2 1] \n",
      "shape: (10,)\n"
     ]
    }
   ],
   "source": [
    "i=np.random.randint(3,size=10)##生成10个[0,3)之间的任意整数. size关键字不可少.\n",
    "printn(i)"
   ]
  },
  {
   "cell_type": "code",
   "execution_count": 16,
   "metadata": {},
   "outputs": [
    {
     "name": "stdout",
     "output_type": "stream",
     "text": [
      "[[1 2 0 2]\n",
      " [0 2 1 1]\n",
      " [2 0 1 0]\n",
      " [2 0 0 0]\n",
      " [2 1 0 2]] \n",
      "shape: (5, 4)\n"
     ]
    }
   ],
   "source": [
    "I=np.random.randint(3,size=(5,4))##将size指定为tuple，则生成矩阵.\n",
    "printn(I)"
   ]
  },
  {
   "cell_type": "code",
   "execution_count": 22,
   "metadata": {},
   "outputs": [
    {
     "name": "stdout",
     "output_type": "stream",
     "text": [
      "[1 2 1 2 1 2 1 1 2 1] \n",
      "shape: (10,)\n"
     ]
    }
   ],
   "source": [
    "k=np.random.randint(1,3,size=10)##生成10个[1,3)之间的整数\n",
    "printn(k)"
   ]
  },
  {
   "cell_type": "code",
   "execution_count": 24,
   "metadata": {},
   "outputs": [
    {
     "data": {
      "text/plain": [
       "-0.7661507220071057"
      ]
     },
     "execution_count": 24,
     "metadata": {},
     "output_type": "execute_result"
    }
   ],
   "source": [
    "##5.np.random.normal\n",
    "np.random.normal()##生成一个服从标准正态分布的数据（使用默认参数）"
   ]
  },
  {
   "cell_type": "code",
   "execution_count": 25,
   "metadata": {},
   "outputs": [
    {
     "data": {
      "text/plain": [
       "array([[-2.15207203,  1.20585756, -1.06845912, -0.35624193],\n",
       "       [ 0.60241596,  1.53460643, -0.64864322,  0.56611467],\n",
       "       [ 0.96758435, -0.56948442, -0.43799211,  1.79360513],\n",
       "       [-0.534262  ,  0.91258061,  0.05497629, -0.13029222],\n",
       "       [ 0.11475799,  0.35726834, -0.70436856, -2.57372601]])"
      ]
     },
     "execution_count": 25,
     "metadata": {},
     "output_type": "execute_result"
    }
   ],
   "source": [
    "np.random.normal(size=(5,4))##生成服从标准正态分布的矩阵（使用默认参数）"
   ]
  },
  {
   "cell_type": "code",
   "execution_count": 26,
   "metadata": {},
   "outputs": [
    {
     "data": {
      "text/plain": [
       "array([[ 99.19803357,  99.26177949,  99.0172119 ],\n",
       "       [ 99.77993885, 100.87175246,  99.05139327],\n",
       "       [ 99.8576367 ,  99.77446341,  99.29486933],\n",
       "       [ 99.66219349,  99.50746931,  99.61875752]])"
      ]
     },
     "execution_count": 26,
     "metadata": {},
     "output_type": "execute_result"
    }
   ],
   "source": [
    "np.random.normal(100,1,size=(4,3))##生成服从均值为100，方差为1的正态分布的矩阵"
   ]
  },
  {
   "cell_type": "code",
   "execution_count": 29,
   "metadata": {},
   "outputs": [
    {
     "data": {
      "text/plain": [
       "2"
      ]
     },
     "execution_count": 29,
     "metadata": {},
     "output_type": "execute_result"
    }
   ],
   "source": [
    "##6.np.random.choice\n",
    "np.random.choice(5)##等同于np.random.randint(5). 均匀分布."
   ]
  },
  {
   "cell_type": "code",
   "execution_count": 30,
   "metadata": {},
   "outputs": [
    {
     "data": {
      "text/plain": [
       "array([4, 1, 1])"
      ]
     },
     "execution_count": 30,
     "metadata": {},
     "output_type": "execute_result"
    }
   ],
   "source": [
    "np.random.choice(5,size=3)##等同于np.random.randint(5,size=3). 均匀分布."
   ]
  },
  {
   "cell_type": "code",
   "execution_count": 35,
   "metadata": {},
   "outputs": [
    {
     "data": {
      "text/plain": [
       "array([1, 1, 3, 2, 1, 0, 2, 3], dtype=int64)"
      ]
     },
     "execution_count": 35,
     "metadata": {},
     "output_type": "execute_result"
    }
   ],
   "source": [
    "np.random.choice(5,8,replace=True,p=[0.1,0.2,0.3,0.4,0])##5个元素的概率质量如 p 所规定，从中有放回的抽取出8个元素."
   ]
  },
  {
   "cell_type": "code",
   "execution_count": 37,
   "metadata": {},
   "outputs": [
    {
     "data": {
      "text/plain": [
       "array([2, 1, 3])"
      ]
     },
     "execution_count": 37,
     "metadata": {},
     "output_type": "execute_result"
    }
   ],
   "source": [
    "np.random.choice(5,3,replace=False,p=[0.1,0.2,0.3,0.4,0])##5个元素的概率质量如 p 所规定，从中无放回的抽取出3个元素."
   ]
  },
  {
   "cell_type": "code",
   "execution_count": 38,
   "metadata": {},
   "outputs": [
    {
     "data": {
      "text/plain": [
       "array(['t', 't', 'e'], dtype='<U1')"
      ]
     },
     "execution_count": 38,
     "metadata": {},
     "output_type": "execute_result"
    }
   ],
   "source": [
    "a=['a','t','t','s','e','z','e']##使用其他类型的数据源\n",
    "np.random.choice(a,3)"
   ]
  },
  {
   "cell_type": "code",
   "execution_count": 41,
   "metadata": {},
   "outputs": [],
   "source": [
    "##7.np.random.shuffle\n",
    "np.random.shuffle(a)##就地混淆"
   ]
  },
  {
   "cell_type": "code",
   "execution_count": 42,
   "metadata": {},
   "outputs": [
    {
     "data": {
      "text/plain": [
       "['e', 's', 't', 't', 'a', 'z', 'e']"
      ]
     },
     "execution_count": 42,
     "metadata": {},
     "output_type": "execute_result"
    }
   ],
   "source": [
    "a"
   ]
  },
  {
   "cell_type": "code",
   "execution_count": 43,
   "metadata": {},
   "outputs": [
    {
     "name": "stdout",
     "output_type": "stream",
     "text": [
      "[[0 1 2]\n",
      " [3 4 5]\n",
      " [6 7 8]] \n",
      "shape: (3, 3)\n"
     ]
    }
   ],
   "source": [
    "A=np.arange(9).reshape(3,3)\n",
    "printn(A)"
   ]
  },
  {
   "cell_type": "code",
   "execution_count": 44,
   "metadata": {
    "collapsed": true
   },
   "outputs": [],
   "source": [
    "np.random.shuffle(A)##对矩阵的混淆只按 0 轴进行混淆"
   ]
  },
  {
   "cell_type": "code",
   "execution_count": 45,
   "metadata": {},
   "outputs": [
    {
     "data": {
      "text/plain": [
       "array([[6, 7, 8],\n",
       "       [0, 1, 2],\n",
       "       [3, 4, 5]])"
      ]
     },
     "execution_count": 45,
     "metadata": {},
     "output_type": "execute_result"
    }
   ],
   "source": [
    "A"
   ]
  },
  {
   "cell_type": "code",
   "execution_count": 46,
   "metadata": {},
   "outputs": [
    {
     "ename": "TypeError",
     "evalue": "shuffle() takes no keyword arguments",
     "output_type": "error",
     "traceback": [
      "\u001b[1;31m---------------------------------------------------------------------------\u001b[0m",
      "\u001b[1;31mTypeError\u001b[0m                                 Traceback (most recent call last)",
      "\u001b[1;32m<ipython-input-46-7f7af9fa9cf3>\u001b[0m in \u001b[0;36m<module>\u001b[1;34m()\u001b[0m\n\u001b[1;32m----> 1\u001b[1;33m \u001b[0mnp\u001b[0m\u001b[1;33m.\u001b[0m\u001b[0mrandom\u001b[0m\u001b[1;33m.\u001b[0m\u001b[0mshuffle\u001b[0m\u001b[1;33m(\u001b[0m\u001b[0mA\u001b[0m\u001b[1;33m,\u001b[0m\u001b[0maxis\u001b[0m\u001b[1;33m=\u001b[0m\u001b[1;36m1\u001b[0m\u001b[1;33m)\u001b[0m\u001b[1;33m\u001b[0m\u001b[0m\n\u001b[0m",
      "\u001b[1;31mTypeError\u001b[0m: shuffle() takes no keyword arguments"
     ]
    }
   ],
   "source": [
    "np.random.shuffle(A,axis=1)##不可指定轴向"
   ]
  },
  {
   "cell_type": "code",
   "execution_count": 50,
   "metadata": {},
   "outputs": [
    {
     "data": {
      "text/plain": [
       "array(['a', 'e', 't', 'z', 's', 'e', 't'], dtype='<U1')"
      ]
     },
     "execution_count": 50,
     "metadata": {},
     "output_type": "execute_result"
    }
   ],
   "source": [
    "##8.np.random.permuation\n",
    "np.random.permutation(a)##生成一个新的排列，不像shuffle那样进行就地混淆"
   ]
  },
  {
   "cell_type": "code",
   "execution_count": 51,
   "metadata": {},
   "outputs": [
    {
     "data": {
      "text/plain": [
       "['e', 's', 't', 't', 'a', 'z', 'e']"
      ]
     },
     "execution_count": 51,
     "metadata": {},
     "output_type": "execute_result"
    }
   ],
   "source": [
    "a"
   ]
  },
  {
   "cell_type": "code",
   "execution_count": 53,
   "metadata": {},
   "outputs": [
    {
     "data": {
      "text/plain": [
       "array([[3, 4, 5],\n",
       "       [6, 7, 8],\n",
       "       [0, 1, 2]])"
      ]
     },
     "execution_count": 53,
     "metadata": {},
     "output_type": "execute_result"
    }
   ],
   "source": [
    "np.random.permutation(A)##同shuffle，只按列进行混淆"
   ]
  },
  {
   "cell_type": "code",
   "execution_count": 54,
   "metadata": {},
   "outputs": [
    {
     "data": {
      "text/plain": [
       "array([1, 2, 3, 4, 5, 6, 7, 8])"
      ]
     },
     "execution_count": 54,
     "metadata": {},
     "output_type": "execute_result"
    }
   ],
   "source": [
    "##9.np.arange与np.linspace\n",
    "np.arange(1,9)##输出[1,9)之间的元素，默认步长为1 ."
   ]
  },
  {
   "cell_type": "code",
   "execution_count": 55,
   "metadata": {},
   "outputs": [
    {
     "data": {
      "text/plain": [
       "array([1, 3, 5, 7])"
      ]
     },
     "execution_count": 55,
     "metadata": {},
     "output_type": "execute_result"
    }
   ],
   "source": [
    "np.arange(1,9,2)##输出[1,9)之间的元素，指定步长为2 ."
   ]
  },
  {
   "cell_type": "code",
   "execution_count": 56,
   "metadata": {},
   "outputs": [
    {
     "data": {
      "text/plain": [
       "array([0, 1, 2, 3, 4, 5, 6, 7, 8])"
      ]
     },
     "execution_count": 56,
     "metadata": {},
     "output_type": "execute_result"
    }
   ],
   "source": [
    "np.arange(9)##输出[0,9)之间的元素. 默认起始位置是0."
   ]
  },
  {
   "cell_type": "code",
   "execution_count": 60,
   "metadata": {},
   "outputs": [
    {
     "data": {
      "text/plain": [
       "array([1.        , 1.02040816, 1.04081633, 1.06122449, 1.08163265,\n",
       "       1.10204082, 1.12244898, 1.14285714, 1.16326531, 1.18367347,\n",
       "       1.20408163, 1.2244898 , 1.24489796, 1.26530612, 1.28571429,\n",
       "       1.30612245, 1.32653061, 1.34693878, 1.36734694, 1.3877551 ,\n",
       "       1.40816327, 1.42857143, 1.44897959, 1.46938776, 1.48979592,\n",
       "       1.51020408, 1.53061224, 1.55102041, 1.57142857, 1.59183673,\n",
       "       1.6122449 , 1.63265306, 1.65306122, 1.67346939, 1.69387755,\n",
       "       1.71428571, 1.73469388, 1.75510204, 1.7755102 , 1.79591837,\n",
       "       1.81632653, 1.83673469, 1.85714286, 1.87755102, 1.89795918,\n",
       "       1.91836735, 1.93877551, 1.95918367, 1.97959184, 2.        ])"
      ]
     },
     "execution_count": 60,
     "metadata": {},
     "output_type": "execute_result"
    }
   ],
   "source": [
    "np.linspace(1,2)##均匀输出50个（默认）[1,2]之间的元素"
   ]
  },
  {
   "cell_type": "code",
   "execution_count": 61,
   "metadata": {},
   "outputs": [
    {
     "data": {
      "text/plain": [
       "array([-1.        , -0.89473684, -0.78947368, -0.68421053, -0.57894737,\n",
       "       -0.47368421, -0.36842105, -0.26315789, -0.15789474, -0.05263158,\n",
       "        0.05263158,  0.15789474,  0.26315789,  0.36842105,  0.47368421,\n",
       "        0.57894737,  0.68421053,  0.78947368,  0.89473684,  1.        ])"
      ]
     },
     "execution_count": 61,
     "metadata": {},
     "output_type": "execute_result"
    }
   ],
   "source": [
    "np.linspace(-1,1,20)##均匀采样20个[-1,1]之间的元素."
   ]
  },
  {
   "cell_type": "code",
   "execution_count": null,
   "metadata": {
    "collapsed": true
   },
   "outputs": [],
   "source": []
  }
 ],
 "metadata": {
  "kernelspec": {
   "display_name": "Python 3",
   "language": "python",
   "name": "python3"
  },
  "language_info": {
   "codemirror_mode": {
    "name": "ipython",
    "version": 3
   },
   "file_extension": ".py",
   "mimetype": "text/x-python",
   "name": "python",
   "nbconvert_exporter": "python",
   "pygments_lexer": "ipython3",
   "version": "3.6.1"
  }
 },
 "nbformat": 4,
 "nbformat_minor": 2
}
