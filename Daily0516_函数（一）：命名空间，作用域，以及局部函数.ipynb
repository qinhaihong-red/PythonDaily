{
 "cells": [
  {
   "cell_type": "code",
   "execution_count": null,
   "metadata": {
    "collapsed": true
   },
   "outputs": [],
   "source": [
    "##daily0516\n",
    "'''\n",
    "一 参数与返回值\n",
    "1.参数分为位置参数和关键字参数. \n",
    "关键字参数必须位于位置参数之后，作为默认值或者可选参数. 可以任何顺序指定关键字参数（当然必须在位置参数之后）.\n",
    "\n",
    "2.可以tuple或者dict的形式一次返回多个参数值，比较方便.\n",
    "\n",
    "\n",
    "二 命名空间，作用域，以及局部函数\n",
    "作用域：分为全局（global）和局部（local）作用域.不同于C++，局部作用域中调用全局作用域的变量，需要添加global修饰.\n",
    "局部函数：各嵌套的内层函数可以访问其上层函数的局部命名空间，但是不能绑定新变量.\n",
    "\n",
    "'''"
   ]
  },
  {
   "cell_type": "code",
   "execution_count": 1,
   "metadata": {},
   "outputs": [
    {
     "name": "stdout",
     "output_type": "stream",
     "text": [
      "15.0\n",
      "7.699999999999999\n",
      "1.6\n"
     ]
    }
   ],
   "source": [
    "##1.函数\n",
    "def my_func(x,y,z=1.5):\n",
    "    if z > 0:\n",
    "        return z*(x+y)\n",
    "    else:\n",
    "        return z/(x+y)\n",
    "    \n",
    "print(my_func(5,5))\n",
    "print(my_func(5,6,0.7))\n",
    "print(my_func(5,3,z=0.2))"
   ]
  },
  {
   "cell_type": "code",
   "execution_count": 4,
   "metadata": {},
   "outputs": [
    {
     "name": "stdout",
     "output_type": "stream",
     "text": [
      "args is:  (99, 1)\n",
      "kwargs is:  {'z': 2}\n",
      "hello! then call <function my_func at 0x000001E15ACF0158>\n"
     ]
    },
    {
     "data": {
      "text/plain": [
       "200"
      ]
     },
     "execution_count": 4,
     "metadata": {},
     "output_type": "execute_result"
    }
   ],
   "source": [
    "##位置参数与关键字参数\n",
    "##python会把位置参数统一放到一个args元组中处理\n",
    "##把关键字参数统一放到一个kargs字典中处理\n",
    "##因此上面在解释器看来就是：\n",
    "##x,y=args ##拆包\n",
    "##z=kargs.get('z',z_default_value)\n",
    "\n",
    "def say_hello_then_call_f(f,*args,**kwargs):\n",
    "    print('args is: ' , args)\n",
    "    print('kwargs is: ' , kwargs)\n",
    "    print('hello! then call %s'%f)\n",
    "    return f(*args,**kwargs)\n",
    "\n",
    "say_hello_then_call_f(my_func,99,1,z=2)"
   ]
  },
  {
   "cell_type": "code",
   "execution_count": 16,
   "metadata": {
    "collapsed": true
   },
   "outputs": [],
   "source": [
    "##全局变量与局部变量\n",
    "a=[100]\n",
    "def func():\n",
    "    print(a)\n",
    "    for i in range(5):\n",
    "        a.append(i)"
   ]
  },
  {
   "cell_type": "code",
   "execution_count": 17,
   "metadata": {},
   "outputs": [
    {
     "name": "stdout",
     "output_type": "stream",
     "text": [
      "[100]\n"
     ]
    },
    {
     "data": {
      "text/plain": [
       "[100, 0, 1, 2, 3, 4]"
      ]
     },
     "execution_count": 17,
     "metadata": {},
     "output_type": "execute_result"
    }
   ],
   "source": [
    "func()\n",
    "a"
   ]
  },
  {
   "cell_type": "code",
   "execution_count": 11,
   "metadata": {},
   "outputs": [
    {
     "data": {
      "text/plain": [
       "[100, 0, 1, 2, 3, 4, 5, 6, 7, 8, 9]"
      ]
     },
     "execution_count": 11,
     "metadata": {},
     "output_type": "execute_result"
    }
   ],
   "source": [
    "\n",
    "def func2():\n",
    "    global a\n",
    "    for i in range(5,10):\n",
    "        a.append(i)\n",
    "    \n",
    "func2()\n",
    "a"
   ]
  },
  {
   "cell_type": "code",
   "execution_count": 18,
   "metadata": {},
   "outputs": [
    {
     "data": {
      "text/plain": [
       "10"
      ]
     },
     "execution_count": 18,
     "metadata": {},
     "output_type": "execute_result"
    }
   ],
   "source": [
    "s=0\n",
    "def func3():\n",
    "    global s##如果没有global修饰，编译都通不过\n",
    "    for i in range(5):\n",
    "        s=s+i\n",
    "        \n",
    "func3()\n",
    "s"
   ]
  },
  {
   "cell_type": "code",
   "execution_count": null,
   "metadata": {
    "collapsed": true
   },
   "outputs": [],
   "source": []
  }
 ],
 "metadata": {
  "kernelspec": {
   "display_name": "Python 3",
   "language": "python",
   "name": "python3"
  },
  "language_info": {
   "codemirror_mode": {
    "name": "ipython",
    "version": 3
   },
   "file_extension": ".py",
   "mimetype": "text/x-python",
   "name": "python",
   "nbconvert_exporter": "python",
   "pygments_lexer": "ipython3",
   "version": "3.6.1"
  }
 },
 "nbformat": 4,
 "nbformat_minor": 2
}
