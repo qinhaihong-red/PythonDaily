{
 "cells": [
  {
   "cell_type": "code",
   "execution_count": null,
   "metadata": {
    "collapsed": true
   },
   "outputs": [],
   "source": [
    "##daily0620\n",
    "'''\n",
    "一.矩阵的向量化与向量的矩阵化\n",
    "1.向量矩阵化：\n",
    "--.reshape\n",
    "--使用np.newaxis添加维数\n",
    "\n",
    "2.矩阵向量化：\n",
    "向量化分为行向量化与列向量化，前者在np中又称之为C序，后者成为F序.\n",
    "\n",
    "行向量化:.ravel()不带参数的默认方法.该方法返回视图,如欲返回副本，应使用.flatten方法.\n",
    "列向量化:.ravel('F')带'F'（Fotran）参数的方法.\n",
    "\n",
    "二.矩阵的合并于拆分\n",
    "1.合并：使用np.contenate，以及命名指定轴向版本的np.vstack和np.hstack\n",
    "2.拆分：使用np.split，以及命名指定轴向版本的np.vsplit和np.hsplit\n",
    "\n",
    "三.构造重复矩阵\n",
    "使用.rpeat构造行或列重复的矩阵\n",
    "使用np.tile方法构造整体重复的矩阵（地板砖）\n",
    "\n",
    "'''"
   ]
  },
  {
   "cell_type": "code",
   "execution_count": 1,
   "metadata": {
    "collapsed": true
   },
   "outputs": [],
   "source": [
    "import numpy as np\n",
    "from np_print import print_np"
   ]
  },
  {
   "cell_type": "code",
   "execution_count": 2,
   "metadata": {},
   "outputs": [
    {
     "name": "stdout",
     "output_type": "stream",
     "text": [
      "[0 1 2] \n",
      "shape: (3,)\n"
     ]
    }
   ],
   "source": [
    "##一\n",
    "##1.向量矩阵化\n",
    "arr=np.arange(3)\n",
    "print_np(arr)"
   ]
  },
  {
   "cell_type": "code",
   "execution_count": 3,
   "metadata": {},
   "outputs": [
    {
     "name": "stdout",
     "output_type": "stream",
     "text": [
      "[[0]\n",
      " [1]\n",
      " [2]] \n",
      "shape: (3, 1)\n"
     ]
    }
   ],
   "source": [
    "arr=arr[:,np.newaxis]\n",
    "print_np(arr)"
   ]
  },
  {
   "cell_type": "code",
   "execution_count": 4,
   "metadata": {},
   "outputs": [
    {
     "data": {
      "text/plain": [
       "array([[0, 1, 2]])"
      ]
     },
     "execution_count": 4,
     "metadata": {},
     "output_type": "execute_result"
    }
   ],
   "source": [
    "arr.reshape(1,3)"
   ]
  },
  {
   "cell_type": "code",
   "execution_count": 8,
   "metadata": {},
   "outputs": [
    {
     "data": {
      "text/plain": [
       "array([[3.14, 3.14, 3.14],\n",
       "       [3.14, 3.14, 3.14]])"
      ]
     },
     "execution_count": 8,
     "metadata": {},
     "output_type": "execute_result"
    }
   ],
   "source": [
    "##2.向量矩阵化\n",
    "##以多种方法创建2*3矩阵\n",
    "\n",
    "##>>full方法\n",
    "ar_full=np.full((2,3),3.14)\n",
    "ar_full"
   ]
  },
  {
   "cell_type": "code",
   "execution_count": 9,
   "metadata": {},
   "outputs": [
    {
     "data": {
      "text/plain": [
       "array([[0, 1, 2],\n",
       "       [3, 4, 5]])"
      ]
     },
     "execution_count": 9,
     "metadata": {},
     "output_type": "execute_result"
    }
   ],
   "source": [
    "##>>arange方法\n",
    "ar_arange=np.arange(6).reshape(2,3)\n",
    "ar_arange"
   ]
  },
  {
   "cell_type": "code",
   "execution_count": 11,
   "metadata": {},
   "outputs": [
    {
     "data": {
      "text/plain": [
       "array([[ 1. ,  4.8,  8.6],\n",
       "       [12.4, 16.2, 20. ]])"
      ]
     },
     "execution_count": 11,
     "metadata": {},
     "output_type": "execute_result"
    }
   ],
   "source": [
    "##>>linespace方法\n",
    "##均匀分布在1到20之间的6个元素\n",
    "ar_ls=np.linspace(1,20,6).reshape(2,3)\n",
    "ar_ls"
   ]
  },
  {
   "cell_type": "code",
   "execution_count": 25,
   "metadata": {},
   "outputs": [
    {
     "data": {
      "text/plain": [
       "array([[0.45836343, 0.69893958, 0.74045921],\n",
       "       [0.79981224, 0.11855863, 0.53037326]])"
      ]
     },
     "execution_count": 25,
     "metadata": {},
     "output_type": "execute_result"
    }
   ],
   "source": [
    "##>>np.random.random方法\n",
    "##0到1之间均匀分布的6个元素\n",
    "ar_rr=np.random.random((2,3))\n",
    "ar_rr"
   ]
  },
  {
   "cell_type": "code",
   "execution_count": 15,
   "metadata": {},
   "outputs": [
    {
     "data": {
      "text/plain": [
       "array([[9, 0, 6],\n",
       "       [4, 0, 9]])"
      ]
     },
     "execution_count": 15,
     "metadata": {},
     "output_type": "execute_result"
    }
   ],
   "source": [
    "##>>np.random.randint方法\n",
    "##随机分布在0到10之间的6个元素\n",
    "ar_ri=np.random.randint(0,10,(2,3))\n",
    "ar_ri"
   ]
  },
  {
   "cell_type": "code",
   "execution_count": 17,
   "metadata": {},
   "outputs": [
    {
     "data": {
      "text/plain": [
       "array([[ 0.55466516, -0.33598215, -1.1069012 ],\n",
       "       [ 0.05468068,  2.10905965,  0.42954235]])"
      ]
     },
     "execution_count": 17,
     "metadata": {},
     "output_type": "execute_result"
    }
   ],
   "source": [
    "##>>np.random.norm方法\n",
    "##均值为0方差为1的标准正态分布下的6个元素\n",
    "ar_rn=np.random.normal(0,1,(2,3))\n",
    "ar_rn"
   ]
  },
  {
   "cell_type": "code",
   "execution_count": 20,
   "metadata": {},
   "outputs": [
    {
     "data": {
      "text/plain": [
       "array([[-0.16151236,  0.36001457, -0.58263336],\n",
       "       [ 0.73653834, -1.28629569,  2.08310677]])"
      ]
     },
     "execution_count": 20,
     "metadata": {},
     "output_type": "execute_result"
    }
   ],
   "source": [
    "##>>np.random.randn方法\n",
    "##默认均值为0方差为1的标准正态分布\n",
    "ar_rsn=np.random.randn(2,3)\n",
    "ar_rsn"
   ]
  },
  {
   "cell_type": "code",
   "execution_count": 28,
   "metadata": {},
   "outputs": [],
   "source": [
    "##把以上生成矩阵元素的方法总结一把：\n",
    "'''\n",
    "1.np.linspace类似于np.arange，生成一维数组.linspace可以指定范围与步长,np.arange相当于np.linspace的特化方法.\n",
    "2.np.random.random(0到1之间的均匀分布)类似于np.random.randn(标准正态分布)，各自包含默认的分布类型，只需要指定矩阵的形状.\n",
    "  注意random需要一个元组作为形状的输入，randn则不需要.\n",
    "  \n",
    "3.np.random.randint和np.random.normal:两者的参数类型一致：需指定参数确定分布，指定形状确定矩阵.\n",
    "\n",
    "'''\n",
    "\n",
    "##向量化\n",
    "ar_arange.ravel()[1]=100##ravel返回的为视图"
   ]
  },
  {
   "cell_type": "code",
   "execution_count": 29,
   "metadata": {},
   "outputs": [
    {
     "data": {
      "text/plain": [
       "array([[  0, 100,   2],\n",
       "       [  3,   4,   5]])"
      ]
     },
     "execution_count": 29,
     "metadata": {},
     "output_type": "execute_result"
    }
   ],
   "source": [
    "ar_arange"
   ]
  },
  {
   "cell_type": "code",
   "execution_count": 30,
   "metadata": {},
   "outputs": [
    {
     "data": {
      "text/plain": [
       "array([  0,   3, 100,   4,   2,   5])"
      ]
     },
     "execution_count": 30,
     "metadata": {},
     "output_type": "execute_result"
    }
   ],
   "source": [
    "ar_arange.ravel('F')##以列为向量化方向"
   ]
  },
  {
   "cell_type": "code",
   "execution_count": 31,
   "metadata": {},
   "outputs": [
    {
     "data": {
      "text/plain": [
       "array([  0, 100,   2,   3,   4,   5])"
      ]
     },
     "execution_count": 31,
     "metadata": {},
     "output_type": "execute_result"
    }
   ],
   "source": [
    "ar_arange.ravel()##默认以行"
   ]
  },
  {
   "cell_type": "code",
   "execution_count": 32,
   "metadata": {
    "collapsed": true
   },
   "outputs": [],
   "source": [
    "ar_arange.flatten()[1]=1000##flatten返回向量化副本"
   ]
  },
  {
   "cell_type": "code",
   "execution_count": 33,
   "metadata": {},
   "outputs": [
    {
     "data": {
      "text/plain": [
       "array([[  0, 100,   2],\n",
       "       [  3,   4,   5]])"
      ]
     },
     "execution_count": 33,
     "metadata": {},
     "output_type": "execute_result"
    }
   ],
   "source": [
    "ar_arange"
   ]
  },
  {
   "cell_type": "code",
   "execution_count": 34,
   "metadata": {},
   "outputs": [
    {
     "data": {
      "text/plain": [
       "array([  0,   3, 100,   4,   2,   5])"
      ]
     },
     "execution_count": 34,
     "metadata": {},
     "output_type": "execute_result"
    }
   ],
   "source": [
    "ar_arange.flatten('F')"
   ]
  },
  {
   "cell_type": "code",
   "execution_count": 35,
   "metadata": {
    "collapsed": true
   },
   "outputs": [],
   "source": [
    "##二.矩阵的合并与拆分\n",
    "##1.合并\n",
    "ar_ar=ar_arange"
   ]
  },
  {
   "cell_type": "code",
   "execution_count": 38,
   "metadata": {},
   "outputs": [
    {
     "data": {
      "text/plain": [
       "array([[  0. , 100. ,   2. ],\n",
       "       [  3. ,   4. ,   5. ],\n",
       "       [  1. ,   4.8,   8.6],\n",
       "       [ 12.4,  16.2,  20. ]])"
      ]
     },
     "execution_count": 38,
     "metadata": {},
     "output_type": "execute_result"
    }
   ],
   "source": [
    "np.concatenate([ar_ar,ar_ls])##默认沿0轴向合并"
   ]
  },
  {
   "cell_type": "code",
   "execution_count": 39,
   "metadata": {},
   "outputs": [
    {
     "data": {
      "text/plain": [
       "array([[  0. , 100. ,   2. ,   1. ,   4.8,   8.6],\n",
       "       [  3. ,   4. ,   5. ,  12.4,  16.2,  20. ]])"
      ]
     },
     "execution_count": 39,
     "metadata": {},
     "output_type": "execute_result"
    }
   ],
   "source": [
    "np.concatenate([ar_ar,ar_ls],axis=1)##沿着1轴合并"
   ]
  },
  {
   "cell_type": "code",
   "execution_count": 44,
   "metadata": {},
   "outputs": [
    {
     "data": {
      "text/plain": [
       "array([[  0. , 100. ,   2. ],\n",
       "       [  3. ,   4. ,   5. ],\n",
       "       [  1. ,   4.8,   8.6],\n",
       "       [ 12.4,  16.2,  20. ]])"
      ]
     },
     "execution_count": 44,
     "metadata": {},
     "output_type": "execute_result"
    }
   ],
   "source": [
    "##使用vstack于hstack\n",
    "ar_v=np.vstack([ar_ar,ar_ls])\n",
    "ar_v"
   ]
  },
  {
   "cell_type": "code",
   "execution_count": 45,
   "metadata": {},
   "outputs": [
    {
     "data": {
      "text/plain": [
       "array([[  0. , 100. ,   2. ,   1. ,   4.8,   8.6],\n",
       "       [  3. ,   4. ,   5. ,  12.4,  16.2,  20. ]])"
      ]
     },
     "execution_count": 45,
     "metadata": {},
     "output_type": "execute_result"
    }
   ],
   "source": [
    "ar_h=np.hstack([ar_ar,ar_ls])\n",
    "ar_h"
   ]
  },
  {
   "cell_type": "code",
   "execution_count": 46,
   "metadata": {
    "collapsed": true
   },
   "outputs": [],
   "source": [
    "##2.拆分\n",
    "s1,s2,s3=np.split(ar_h[0],[2,4])##使用数组作为索引进行拆分，n个索引拆分为n+1段."
   ]
  },
  {
   "cell_type": "code",
   "execution_count": 47,
   "metadata": {},
   "outputs": [
    {
     "name": "stdout",
     "output_type": "stream",
     "text": [
      "[  0. 100.] [2. 1.] [4.8 8.6]\n"
     ]
    }
   ],
   "source": [
    "print(s1,s2,s3)"
   ]
  },
  {
   "cell_type": "code",
   "execution_count": 50,
   "metadata": {},
   "outputs": [
    {
     "name": "stdout",
     "output_type": "stream",
     "text": [
      "[[  0. 100.   2.]\n",
      " [  3.   4.   5.]] \n",
      "\n",
      " [[ 1.   4.8  8.6]\n",
      " [12.4 16.2 20. ]]\n"
     ]
    }
   ],
   "source": [
    "v1,v2=np.vsplit(ar_v,[2])##按0轴进行拆分，拆分为行.\n",
    "print(v1,'\\n\\n',v2)"
   ]
  },
  {
   "cell_type": "code",
   "execution_count": 51,
   "metadata": {},
   "outputs": [
    {
     "name": "stdout",
     "output_type": "stream",
     "text": [
      "[[0.]\n",
      " [3.]] \n",
      "\n",
      " [[100.   2.]\n",
      " [  4.   5.]] \n",
      "\n",
      " [[ 1.   4.8  8.6]\n",
      " [12.4 16.2 20. ]]\n"
     ]
    }
   ],
   "source": [
    "h1,h2,h3=np.hsplit(ar_h,[1,3])##按1轴进行拆分，拆分为列.\n",
    "print(h1,'\\n\\n',h2,'\\n\\n',h3)"
   ]
  },
  {
   "cell_type": "code",
   "execution_count": 52,
   "metadata": {},
   "outputs": [
    {
     "data": {
      "text/plain": [
       "array([[  0., 100.,   2.],\n",
       "       [  3.,   4.,   5.]])"
      ]
     },
     "execution_count": 52,
     "metadata": {},
     "output_type": "execute_result"
    }
   ],
   "source": [
    "##三.构造重复元素的矩阵\n",
    "##按行按列重复：.repeat方法\n",
    "v1"
   ]
  },
  {
   "cell_type": "code",
   "execution_count": 56,
   "metadata": {},
   "outputs": [
    {
     "data": {
      "text/plain": [
       "array([[  0., 100.,   2.],\n",
       "       [  0., 100.,   2.],\n",
       "       [  3.,   4.,   5.],\n",
       "       [  3.,   4.,   5.],\n",
       "       [  3.,   4.,   5.]])"
      ]
     },
     "execution_count": 56,
     "metadata": {},
     "output_type": "execute_result"
    }
   ],
   "source": [
    "v1.repeat([2,3],axis=0)##沿0轴进行重复：第一行重复2次，第二行重复3次"
   ]
  },
  {
   "cell_type": "code",
   "execution_count": 57,
   "metadata": {},
   "outputs": [
    {
     "data": {
      "text/plain": [
       "array([[  0., 100.,   2.],\n",
       "       [  3.,   4.,   5.]])"
      ]
     },
     "execution_count": 57,
     "metadata": {},
     "output_type": "execute_result"
    }
   ],
   "source": [
    "v1##repeat返回的是副本，不影响原矩阵"
   ]
  },
  {
   "cell_type": "code",
   "execution_count": 62,
   "metadata": {},
   "outputs": [
    {
     "data": {
      "text/plain": [
       "array([  0.,   0., 100., 100.,   2.,   2.,   3.,   3.,   4.,   4.,   5.,\n",
       "         5.])"
      ]
     },
     "execution_count": 62,
     "metadata": {},
     "output_type": "execute_result"
    }
   ],
   "source": [
    "v1.repeat(2)##如果不指定轴向就开始重复，那么结果是先向量化再重复每个元素"
   ]
  },
  {
   "cell_type": "code",
   "execution_count": 67,
   "metadata": {},
   "outputs": [
    {
     "data": {
      "text/plain": [
       "array([[  0.,   0.,   0., 100., 100.,   2.],\n",
       "       [  3.,   3.,   3.,   4.,   4.,   5.]])"
      ]
     },
     "execution_count": 67,
     "metadata": {},
     "output_type": "execute_result"
    }
   ],
   "source": [
    "v1.repeat([3,2,1],axis=1)##沿1轴进行重复，第一列重复3次，第二列重复2次，第三列重复1次"
   ]
  },
  {
   "cell_type": "code",
   "execution_count": 68,
   "metadata": {},
   "outputs": [
    {
     "data": {
      "text/plain": [
       "array([[  0., 100.,   2.,   0., 100.,   2.],\n",
       "       [  3.,   4.,   5.,   3.,   4.,   5.]])"
      ]
     },
     "execution_count": 68,
     "metadata": {},
     "output_type": "execute_result"
    }
   ],
   "source": [
    "##整体进行重复：np.tile\n",
    "##如果说.repeat是按行按列分解进行重复\n",
    "##那么np.tile就是把矩阵视为整体进行重复\n",
    "np.tile(v1,2)"
   ]
  },
  {
   "cell_type": "code",
   "execution_count": 70,
   "metadata": {},
   "outputs": [
    {
     "data": {
      "text/plain": [
       "array([[  0., 100.,   2.],\n",
       "       [  3.,   4.,   5.],\n",
       "       [  0., 100.,   2.],\n",
       "       [  3.,   4.,   5.]])"
      ]
     },
     "execution_count": 70,
     "metadata": {},
     "output_type": "execute_result"
    }
   ],
   "source": [
    "np.tile(v1,(2,1))"
   ]
  },
  {
   "cell_type": "code",
   "execution_count": 71,
   "metadata": {},
   "outputs": [
    {
     "data": {
      "text/plain": [
       "array([[  0., 100.,   2.,   0., 100.,   2.],\n",
       "       [  3.,   4.,   5.,   3.,   4.,   5.]])"
      ]
     },
     "execution_count": 71,
     "metadata": {},
     "output_type": "execute_result"
    }
   ],
   "source": [
    "np.tile(v1,(1,2))##类似于np.tile(v1,2)"
   ]
  },
  {
   "cell_type": "code",
   "execution_count": null,
   "metadata": {
    "collapsed": true
   },
   "outputs": [],
   "source": []
  }
 ],
 "metadata": {
  "kernelspec": {
   "display_name": "Python 3",
   "language": "python",
   "name": "python3"
  },
  "language_info": {
   "codemirror_mode": {
    "name": "ipython",
    "version": 3
   },
   "file_extension": ".py",
   "mimetype": "text/x-python",
   "name": "python",
   "nbconvert_exporter": "python",
   "pygments_lexer": "ipython3",
   "version": "3.6.1"
  }
 },
 "nbformat": 4,
 "nbformat_minor": 2
}
