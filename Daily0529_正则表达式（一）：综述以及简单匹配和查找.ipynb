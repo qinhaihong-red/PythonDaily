{
 "cells": [
  {
   "cell_type": "code",
   "execution_count": null,
   "metadata": {
    "collapsed": true
   },
   "outputs": [],
   "source": [
    "##daily0529\n",
    "'''\n",
    "一.理论部分\n",
    "\n",
    "*元字符*\n",
    "1.符号\n",
    ". ： 匹配除 \\n 以外的任意字符. re模块的re.S或re.DOTALL属性可解除这一限制.\n",
    "* ： 匹配0到多次.\n",
    "+ ： 匹配1到多次.\n",
    "? ： 匹配0到1次.\n",
    "^ ： 起始匹配.\n",
    "$ ： 中止匹配.\n",
    "{}： 匹配指定次数.\n",
    "[]： 择一符号.\n",
    "(...)： 匹配并存为分组.\n",
    "(*|?|+|{})?：非贪婪匹配.\n",
    "\n",
    "2.字符\n",
    "\\d： 匹配0到9数字(\\D与之相反).\n",
    "\\w： 匹配0-9a-zA-Z_数字和字符(\\W与之相反).\n",
    "\\s： 匹配空白字符：空白，换行，制表等(\\S与之相反).\n",
    "\\b： 匹配单词边界(\\B与之相反).\n",
    "\\N： 匹配已保存的分组.\n",
    "\\c： 逐字匹配任何单一字符(转义的意思).\n",
    "\n",
    "3.扩展\n",
    "(?...)\n",
    "\n",
    "\n",
    "二.具体实践部分：Python的re模块\n",
    "Python的正则表达由4部分构成：\n",
    "1.re模块\n",
    "2.已编译的re对象\n",
    "3.已匹配的re对象\n",
    "4.re模块的属性\n",
    "\n",
    "进行正则的匹配和搜索，既可以直接通过re模块内函数执行，也可以通过经过编译的re对象来执行.\n",
    "前者比后者少了一步显式编译（但仍然有隐式编译），后者比前者更快执行（至少不必每次都查找已编译的模式）.\n",
    "\n",
    "\n",
    "核心函数按上述分类列举如下：\n",
    "*re模块：\n",
    "re.compile\n",
    "re.purge: 清除已编译的re对象(隐式).\n",
    "\n",
    "*re模块和已编译的re对象：\n",
    "match: 从头开始匹配.返回已匹配的re对象,否则返回None.\n",
    "search: 从头开始搜索.返回已匹配的re对象,否则返回None.\n",
    "findall\n",
    "finditer\n",
    "split: 字符串分割\n",
    "sub(n): 字符串替换\n",
    "\n",
    "*已匹配的re对象:\n",
    "group()\n",
    "groups()\n",
    "groupdict()\n",
    "\n",
    "*re模块属性:\n",
    "re.I: 不区分大小写\n",
    "re.L:\n",
    "re.M\n",
    "re.S或re.DOTALL\n",
    "re.X\n",
    "\n",
    "'''"
   ]
  },
  {
   "cell_type": "code",
   "execution_count": 1,
   "metadata": {
    "collapsed": true
   },
   "outputs": [],
   "source": [
    "import re\n",
    "##1.编译生成已编译的re对象\n",
    "pat=re.compile('foo',re.I)"
   ]
  },
  {
   "cell_type": "code",
   "execution_count": 2,
   "metadata": {},
   "outputs": [
    {
     "data": {
      "text/plain": [
       "'foo'"
      ]
     },
     "execution_count": 2,
     "metadata": {},
     "output_type": "execute_result"
    }
   ],
   "source": [
    "##2.使用已编译的re对象进行匹配，从头开始匹配.返回已匹配的re对象\n",
    "mat=pat.match('food on the talbe')\n",
    "\n",
    "##3.已匹配的re对象的group方法\n",
    "mat.group()"
   ]
  },
  {
   "cell_type": "code",
   "execution_count": 3,
   "metadata": {},
   "outputs": [
    {
     "data": {
      "text/plain": [
       "()"
      ]
     },
     "execution_count": 3,
     "metadata": {},
     "output_type": "execute_result"
    }
   ],
   "source": [
    "mat.groups()"
   ]
  },
  {
   "cell_type": "code",
   "execution_count": 4,
   "metadata": {},
   "outputs": [
    {
     "ename": "AttributeError",
     "evalue": "'NoneType' object has no attribute 'group'",
     "output_type": "error",
     "traceback": [
      "\u001b[1;31m---------------------------------------------------------------------------\u001b[0m",
      "\u001b[1;31mAttributeError\u001b[0m                            Traceback (most recent call last)",
      "\u001b[1;32m<ipython-input-4-b1c0375b6138>\u001b[0m in \u001b[0;36m<module>\u001b[1;34m()\u001b[0m\n\u001b[1;32m----> 1\u001b[1;33m \u001b[0mpat\u001b[0m\u001b[1;33m.\u001b[0m\u001b[0mmatch\u001b[0m\u001b[1;33m(\u001b[0m\u001b[1;34m'seaFOOD'\u001b[0m\u001b[1;33m)\u001b[0m\u001b[1;33m.\u001b[0m\u001b[0mgroup\u001b[0m\u001b[1;33m(\u001b[0m\u001b[1;33m)\u001b[0m\u001b[1;33m\u001b[0m\u001b[0m\n\u001b[0m",
      "\u001b[1;31mAttributeError\u001b[0m: 'NoneType' object has no attribute 'group'"
     ]
    }
   ],
   "source": [
    "pat.match('seaFOOD').group()##欲匹配的子串并非从头开始，因此返回了None对象."
   ]
  },
  {
   "cell_type": "code",
   "execution_count": 7,
   "metadata": {},
   "outputs": [],
   "source": [
    "##4.使用search方法.\n",
    "mat2=pat.search('seaFoOdfOo')"
   ]
  },
  {
   "cell_type": "code",
   "execution_count": 8,
   "metadata": {},
   "outputs": [
    {
     "data": {
      "text/plain": [
       "'FoO'"
      ]
     },
     "execution_count": 8,
     "metadata": {},
     "output_type": "execute_result"
    }
   ],
   "source": [
    "mat2.group()#只返回了第一个匹配的子串"
   ]
  },
  {
   "cell_type": "code",
   "execution_count": 9,
   "metadata": {},
   "outputs": [
    {
     "data": {
      "text/plain": [
       "()"
      ]
     },
     "execution_count": 9,
     "metadata": {},
     "output_type": "execute_result"
    }
   ],
   "source": [
    "mat.groups()"
   ]
  },
  {
   "cell_type": "code",
   "execution_count": 10,
   "metadata": {},
   "outputs": [
    {
     "data": {
      "text/plain": [
       "{}"
      ]
     },
     "execution_count": 10,
     "metadata": {},
     "output_type": "execute_result"
    }
   ],
   "source": [
    "mat.groupdict()"
   ]
  },
  {
   "cell_type": "code",
   "execution_count": 13,
   "metadata": {},
   "outputs": [
    {
     "data": {
      "text/plain": [
       "'FoO'"
      ]
     },
     "execution_count": 13,
     "metadata": {},
     "output_type": "execute_result"
    }
   ],
   "source": [
    "pat.search('seaFoOdfOo').group()#再次搜索还是返回了第一个, 这可不是stl的find."
   ]
  },
  {
   "cell_type": "code",
   "execution_count": 12,
   "metadata": {},
   "outputs": [
    {
     "data": {
      "text/plain": [
       "['FoO', 'fOo']"
      ]
     },
     "execution_count": 12,
     "metadata": {},
     "output_type": "execute_result"
    }
   ],
   "source": [
    "##5.findall\n",
    "pat.findall('seaFoOdfOo')##使用findall就全部返回了"
   ]
  },
  {
   "cell_type": "code",
   "execution_count": 14,
   "metadata": {
    "collapsed": true
   },
   "outputs": [],
   "source": [
    "##示例匹配.号\n",
    "anyend='.end'\n",
    "pat2=re.compile(anyend)"
   ]
  },
  {
   "cell_type": "code",
   "execution_count": 19,
   "metadata": {},
   "outputs": [
    {
     "data": {
      "text/plain": [
       "'bend'"
      ]
     },
     "execution_count": 19,
     "metadata": {},
     "output_type": "execute_result"
    }
   ],
   "source": [
    "m_r=pat2.match('bend')\n",
    "m_r.group()\n"
   ]
  },
  {
   "cell_type": "code",
   "execution_count": 23,
   "metadata": {},
   "outputs": [
    {
     "name": "stdout",
     "output_type": "stream",
     "text": [
      "bend\n"
     ]
    }
   ],
   "source": [
    "if m_r is not None:print(m_r.group())"
   ]
  },
  {
   "cell_type": "code",
   "execution_count": 24,
   "metadata": {},
   "outputs": [
    {
     "ename": "AttributeError",
     "evalue": "'NoneType' object has no attribute 'group'",
     "output_type": "error",
     "traceback": [
      "\u001b[1;31m---------------------------------------------------------------------------\u001b[0m",
      "\u001b[1;31mAttributeError\u001b[0m                            Traceback (most recent call last)",
      "\u001b[1;32m<ipython-input-24-06255857ab36>\u001b[0m in \u001b[0;36m<module>\u001b[1;34m()\u001b[0m\n\u001b[1;32m----> 1\u001b[1;33m \u001b[0mm_r\u001b[0m\u001b[1;33m=\u001b[0m\u001b[0mpat2\u001b[0m\u001b[1;33m.\u001b[0m\u001b[0mmatch\u001b[0m\u001b[1;33m(\u001b[0m\u001b[1;34m'\\nend'\u001b[0m\u001b[1;33m)\u001b[0m\u001b[1;33m.\u001b[0m\u001b[0mgroup\u001b[0m\u001b[1;33m(\u001b[0m\u001b[1;33m)\u001b[0m\u001b[1;33m\u001b[0m\u001b[0m\n\u001b[0m",
      "\u001b[1;31mAttributeError\u001b[0m: 'NoneType' object has no attribute 'group'"
     ]
    }
   ],
   "source": [
    "m_r=pat2.match('\\nend').group()##.无法匹配\\n，返回None"
   ]
  },
  {
   "cell_type": "code",
   "execution_count": 26,
   "metadata": {},
   "outputs": [],
   "source": [
    "pat314_precisely=re.compile('3\\.14')\n",
    "pat3x4=re.compile('3.14')\n"
   ]
  },
  {
   "cell_type": "code",
   "execution_count": 27,
   "metadata": {},
   "outputs": [
    {
     "data": {
      "text/plain": [
       "'3.14'"
      ]
     },
     "execution_count": 27,
     "metadata": {},
     "output_type": "execute_result"
    }
   ],
   "source": [
    "##精确匹配\n",
    "pat314_precisely.match('3.14').group()"
   ]
  },
  {
   "cell_type": "code",
   "execution_count": 28,
   "metadata": {},
   "outputs": [
    {
     "data": {
      "text/plain": [
       "'3.14'"
      ]
     },
     "execution_count": 28,
     "metadata": {},
     "output_type": "execute_result"
    }
   ],
   "source": [
    "##结果虽然一致，但是这里是以.来匹配符号'.'\n",
    "pat3x4.match('3.14').group()"
   ]
  },
  {
   "cell_type": "code",
   "execution_count": 29,
   "metadata": {},
   "outputs": [
    {
     "data": {
      "text/plain": [
       "'3014'"
      ]
     },
     "execution_count": 29,
     "metadata": {},
     "output_type": "execute_result"
    }
   ],
   "source": [
    "pat3x4.match('3014').group()"
   ]
  },
  {
   "cell_type": "code",
   "execution_count": null,
   "metadata": {
    "collapsed": true
   },
   "outputs": [],
   "source": []
  }
 ],
 "metadata": {
  "kernelspec": {
   "display_name": "Python 3",
   "language": "python",
   "name": "python3"
  },
  "language_info": {
   "codemirror_mode": {
    "name": "ipython",
    "version": 3
   },
   "file_extension": ".py",
   "mimetype": "text/x-python",
   "name": "python",
   "nbconvert_exporter": "python",
   "pygments_lexer": "ipython3",
   "version": "3.6.1"
  }
 },
 "nbformat": 4,
 "nbformat_minor": 2
}
